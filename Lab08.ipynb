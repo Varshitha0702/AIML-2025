{
  "nbformat": 4,
  "nbformat_minor": 0,
  "metadata": {
    "colab": {
      "provenance": [],
      "authorship_tag": "ABX9TyOqOraaNDvji+ilCmyx1v96",
      "include_colab_link": true
    },
    "kernelspec": {
      "name": "python3",
      "display_name": "Python 3"
    },
    "language_info": {
      "name": "python"
    }
  },
  "cells": [
    {
      "cell_type": "markdown",
      "metadata": {
        "id": "view-in-github",
        "colab_type": "text"
      },
      "source": [
        "<a href=\"https://colab.research.google.com/github/Varshitha0702/AIML-2025/blob/main/Lab08.ipynb\" target=\"_parent\"><img src=\"https://colab.research.google.com/assets/colab-badge.svg\" alt=\"Open In Colab\"/></a>"
      ]
    },
    {
      "cell_type": "markdown",
      "source": [
        "# 1-Imports"
      ],
      "metadata": {
        "id": "t1_NC4m8ostW"
      }
    },
    {
      "cell_type": "code",
      "execution_count": 2,
      "metadata": {
        "id": "HfzOtBDAnNrV"
      },
      "outputs": [],
      "source": [
        "import numpy as np\n",
        "import pandas as pd\n",
        "import seaborn as sns\n",
        "import sklearn\n",
        "from sklearn.datasets import fetch_openml\n",
        "import matplotlib.pyplot as plt\n",
        "%matplotlib inline"
      ]
    },
    {
      "cell_type": "markdown",
      "source": [
        "# 2 - Loading the data"
      ],
      "metadata": {
        "id": "QbzSwgil4Tcn"
      }
    },
    {
      "cell_type": "code",
      "source": [
        "fetch_openml(data_id=5)"
      ],
      "metadata": {
        "colab": {
          "base_uri": "https://localhost:8080/"
        },
        "id": "tH5GI_bDDmPM",
        "outputId": "51c9f1e3-15d9-4a8a-aab8-ba08f37fa739"
      },
      "execution_count": 40,
      "outputs": [
        {
          "output_type": "execute_result",
          "data": {
            "text/plain": [
              "{'data':      age sex  height  weight  QRSduration  PRinterval  Q-Tinterval  Tinterval  \\\n",
              " 0     75   0     190      80           91         193          371        174   \n",
              " 1     56   1     165      64           81         174          401        149   \n",
              " 2     54   0     172      95          138         163          386        185   \n",
              " 3     55   0     175      94          100         202          380        179   \n",
              " 4     75   0     190      80           88         181          360        177   \n",
              " ..   ...  ..     ...     ...          ...         ...          ...        ...   \n",
              " 447   53   1     160      70           80         199          382        154   \n",
              " 448   37   0     190      85          100         137          361        201   \n",
              " 449   36   0     166      68          108         176          365        194   \n",
              " 450   32   1     155      55           93         106          386        218   \n",
              " 451   78   1     160      70           79         127          364        138   \n",
              " \n",
              "      Pinterval  QRS  ...  chV6_JJwaveAmp  chV6_QwaveAmp  chV6_RwaveAmp  \\\n",
              " 0          121  -16  ...            -0.3            0.0            9.0   \n",
              " 1           39   25  ...            -0.5            0.0            8.5   \n",
              " 2          102   96  ...             0.9            0.0            9.5   \n",
              " 3          143   28  ...             0.1            0.0           12.2   \n",
              " 4          103  -16  ...            -0.4            0.0           13.1   \n",
              " ..         ...  ...  ...             ...            ...            ...   \n",
              " 447        117  -37  ...             0.0            0.0            4.3   \n",
              " 448         73   86  ...            -0.5            0.0           15.6   \n",
              " 449        116  -85  ...             1.2            0.0           16.3   \n",
              " 450         63   54  ...             0.2           -0.4           12.0   \n",
              " 451         78   28  ...            -0.3            0.0           10.4   \n",
              " \n",
              "      chV6_SwaveAmp  chV6_RPwaveAmp  chV6_SPwaveAmp  chV6_PwaveAmp  \\\n",
              " 0             -0.9             0.0             0.0            0.9   \n",
              " 1              0.0             0.0             0.0            0.2   \n",
              " 2             -2.4             0.0             0.0            0.3   \n",
              " 3             -2.2             0.0             0.0            0.4   \n",
              " 4             -3.6             0.0             0.0           -0.1   \n",
              " ..             ...             ...             ...            ...   \n",
              " 447           -5.0             0.0             0.0            0.7   \n",
              " 448           -1.6             0.0             0.0            0.4   \n",
              " 449          -28.6             0.0             0.0            1.5   \n",
              " 450           -0.7             0.0             0.0            0.5   \n",
              " 451           -1.8             0.0             0.0            0.5   \n",
              " \n",
              "      chV6_TwaveAmp  chV6_QRSA  chV6_QRSTA  \n",
              " 0              2.9       23.3        49.4  \n",
              " 1              2.1       20.4        38.8  \n",
              " 2              3.4       12.3        49.0  \n",
              " 3              2.6       34.6        61.6  \n",
              " 4              3.9       25.4        62.8  \n",
              " ..             ...        ...         ...  \n",
              " 447            0.6       -4.4        -0.5  \n",
              " 448            2.4       38.0        62.4  \n",
              " 449            1.0      -44.2       -33.2  \n",
              " 450            2.4       25.0        46.6  \n",
              " 451            1.6       21.3        32.8  \n",
              " \n",
              " [452 rows x 279 columns],\n",
              " 'target': 0       8\n",
              " 1       6\n",
              " 2      10\n",
              " 3       1\n",
              " 4       7\n",
              "        ..\n",
              " 447     1\n",
              " 448    10\n",
              " 449     2\n",
              " 450     1\n",
              " 451     1\n",
              " Name: class, Length: 452, dtype: category\n",
              " Categories (13, object): ['1', '10', '14', '15', ..., '6', '7', '8', '9'],\n",
              " 'frame':      age sex  height  weight  QRSduration  PRinterval  Q-Tinterval  Tinterval  \\\n",
              " 0     75   0     190      80           91         193          371        174   \n",
              " 1     56   1     165      64           81         174          401        149   \n",
              " 2     54   0     172      95          138         163          386        185   \n",
              " 3     55   0     175      94          100         202          380        179   \n",
              " 4     75   0     190      80           88         181          360        177   \n",
              " ..   ...  ..     ...     ...          ...         ...          ...        ...   \n",
              " 447   53   1     160      70           80         199          382        154   \n",
              " 448   37   0     190      85          100         137          361        201   \n",
              " 449   36   0     166      68          108         176          365        194   \n",
              " 450   32   1     155      55           93         106          386        218   \n",
              " 451   78   1     160      70           79         127          364        138   \n",
              " \n",
              "      Pinterval  QRS  ...  chV6_QwaveAmp  chV6_RwaveAmp  chV6_SwaveAmp  \\\n",
              " 0          121  -16  ...            0.0            9.0           -0.9   \n",
              " 1           39   25  ...            0.0            8.5            0.0   \n",
              " 2          102   96  ...            0.0            9.5           -2.4   \n",
              " 3          143   28  ...            0.0           12.2           -2.2   \n",
              " 4          103  -16  ...            0.0           13.1           -3.6   \n",
              " ..         ...  ...  ...            ...            ...            ...   \n",
              " 447        117  -37  ...            0.0            4.3           -5.0   \n",
              " 448         73   86  ...            0.0           15.6           -1.6   \n",
              " 449        116  -85  ...            0.0           16.3          -28.6   \n",
              " 450         63   54  ...           -0.4           12.0           -0.7   \n",
              " 451         78   28  ...            0.0           10.4           -1.8   \n",
              " \n",
              "      chV6_RPwaveAmp  chV6_SPwaveAmp  chV6_PwaveAmp  chV6_TwaveAmp  chV6_QRSA  \\\n",
              " 0               0.0             0.0            0.9            2.9       23.3   \n",
              " 1               0.0             0.0            0.2            2.1       20.4   \n",
              " 2               0.0             0.0            0.3            3.4       12.3   \n",
              " 3               0.0             0.0            0.4            2.6       34.6   \n",
              " 4               0.0             0.0           -0.1            3.9       25.4   \n",
              " ..              ...             ...            ...            ...        ...   \n",
              " 447             0.0             0.0            0.7            0.6       -4.4   \n",
              " 448             0.0             0.0            0.4            2.4       38.0   \n",
              " 449             0.0             0.0            1.5            1.0      -44.2   \n",
              " 450             0.0             0.0            0.5            2.4       25.0   \n",
              " 451             0.0             0.0            0.5            1.6       21.3   \n",
              " \n",
              "      chV6_QRSTA  class  \n",
              " 0          49.4      8  \n",
              " 1          38.8      6  \n",
              " 2          49.0     10  \n",
              " 3          61.6      1  \n",
              " 4          62.8      7  \n",
              " ..          ...    ...  \n",
              " 447        -0.5      1  \n",
              " 448        62.4     10  \n",
              " 449       -33.2      2  \n",
              " 450        46.6      1  \n",
              " 451        32.8      1  \n",
              " \n",
              " [452 rows x 280 columns],\n",
              " 'categories': None,\n",
              " 'feature_names': ['age',\n",
              "  'sex',\n",
              "  'height',\n",
              "  'weight',\n",
              "  'QRSduration',\n",
              "  'PRinterval',\n",
              "  'Q-Tinterval',\n",
              "  'Tinterval',\n",
              "  'Pinterval',\n",
              "  'QRS',\n",
              "  'T',\n",
              "  'P',\n",
              "  'QRST',\n",
              "  'J',\n",
              "  'heartrate',\n",
              "  'chDI_Qwave',\n",
              "  'chDI_Rwave',\n",
              "  'chDI_Swave',\n",
              "  'chDI_RPwave',\n",
              "  'chDI_SPwave',\n",
              "  'chDI_intrinsicReflecttions',\n",
              "  'chDI_RRwaveExists',\n",
              "  'chDI_DD_RRwaveExists',\n",
              "  'chDI_RPwaveExists',\n",
              "  'chDI_DD_RPwaveExists',\n",
              "  'chDI_RTwaveExists',\n",
              "  'chDI_DD_RTwaveExists',\n",
              "  'chDII_Qwave',\n",
              "  'chDII_Rwave',\n",
              "  'chDII_Swave',\n",
              "  'chDII_RPwave',\n",
              "  'chDII_SPwave',\n",
              "  'chDII_intrinsicReflecttions',\n",
              "  'chDII_RRwaveExists',\n",
              "  'chDII_DD_RRwaveExists',\n",
              "  'chDII_RPwaveExists',\n",
              "  'chDII_DD_RPwaveExists',\n",
              "  'chDII_RTwaveExists',\n",
              "  'chDII_DD_RTwaveExists',\n",
              "  'chDIII_Qwave',\n",
              "  'chDIII_Rwave',\n",
              "  'chDIII_Swave',\n",
              "  'chDIII_RPwave',\n",
              "  'chDIII_SPwave',\n",
              "  'chDIII_intrinsicReflecttions',\n",
              "  'chDIII_RRwaveExists',\n",
              "  'chDIII_DD_RRwaveExists',\n",
              "  'chDIII_RPwaveExists',\n",
              "  'chDIII_DD_RPwaveExists',\n",
              "  'chDIII_RTwaveExists',\n",
              "  'chDIII_DD_RTwaveExists',\n",
              "  'chAVR_Qwave',\n",
              "  'chAVR_Rwave',\n",
              "  'chAVR_Swave',\n",
              "  'chAVR_RPwave',\n",
              "  'chAVR_SPwave',\n",
              "  'chAVR_intrinsicReflecttions',\n",
              "  'chAVR_RRwaveExists',\n",
              "  'chAVR_DD_RRwaveExists',\n",
              "  'chAVR_RPwaveExists',\n",
              "  'chAVR_DD_RPwaveExists',\n",
              "  'chAVR_RTwaveExists',\n",
              "  'chAVR_DD_RTwaveExists',\n",
              "  'chAVL_Qwave',\n",
              "  'chAVL_Rwave',\n",
              "  'chAVL_Swave',\n",
              "  'chAVL_RPwave',\n",
              "  'chAVL_SPwave',\n",
              "  'chAVL_intrinsicReflecttions',\n",
              "  'chAVL_RRwaveExists',\n",
              "  'chAVL_DD_RRwaveExists',\n",
              "  'chAVL_RPwaveExists',\n",
              "  'chAVL_DD_RPwaveExists',\n",
              "  'chAVL_RTwaveExists',\n",
              "  'chAVL_DD_RTwaveExists',\n",
              "  'chAVF_Qwave',\n",
              "  'chAVF_Rwave',\n",
              "  'chAVF_Swave',\n",
              "  'chAVF_RPwave',\n",
              "  'chAVF_SPwave',\n",
              "  'chAVF_intrinsicReflecttions',\n",
              "  'chAVF_RRwaveExists',\n",
              "  'chAVF_DD_RRwaveExists',\n",
              "  'chAVF_RPwaveExists',\n",
              "  'chAVF_DD_RPwaveExists',\n",
              "  'chAVF_RTwaveExists',\n",
              "  'chAVF_DD_RTwaveExists',\n",
              "  'chV1_Qwave',\n",
              "  'chV1_Rwave',\n",
              "  'chV1_Swave',\n",
              "  'chV1_RPwave',\n",
              "  'chV1_SPwave',\n",
              "  'chV1_intrinsicReflecttions',\n",
              "  'chV1_RRwaveExists',\n",
              "  'chV1_DD_RRwaveExists',\n",
              "  'chV1_RPwaveExists',\n",
              "  'chV1_DD_RPwaveExists',\n",
              "  'chV1_RTwaveExists',\n",
              "  'chV1_DD_RTwaveExists',\n",
              "  'chV2_Qwave',\n",
              "  'chV2_Rwave',\n",
              "  'chV2_Swave',\n",
              "  'chV2_RPwave',\n",
              "  'chV2_SPwave',\n",
              "  'chV2_intrinsicReflecttions',\n",
              "  'chV2_RRwaveExists',\n",
              "  'chV2_DD_RRwaveExists',\n",
              "  'chV2_RPwaveExists',\n",
              "  'chV2_DD_RPwaveExists',\n",
              "  'chV2_RTwaveExists',\n",
              "  'chV2_DD_RTwaveExists',\n",
              "  'chV3_Qwave',\n",
              "  'chV3_Rwave',\n",
              "  'chV3_Swave',\n",
              "  'chV3_RPwave',\n",
              "  'chV3_SPwave',\n",
              "  'chV3_intrinsicReflecttions',\n",
              "  'chV3_RRwaveExists',\n",
              "  'chV3_DD_RRwaveExists',\n",
              "  'chV3_RPwaveExists',\n",
              "  'chV3_DD_RPwaveExists',\n",
              "  'chV3_RTwaveExists',\n",
              "  'chV3_DD_RTwaveExists',\n",
              "  'chV4_Qwave',\n",
              "  'chV4_Rwave',\n",
              "  'chV4_Swave',\n",
              "  'chV4_RPwave',\n",
              "  'chV4_SPwave',\n",
              "  'chV4_intrinsicReflecttions',\n",
              "  'chV4_RRwaveExists',\n",
              "  'chV4_DD_RRwaveExists',\n",
              "  'chV4_RPwaveExists',\n",
              "  'chV4_DD_RPwaveExists',\n",
              "  'chV4_RTwaveExists',\n",
              "  'chV4_DD_RTwaveExists',\n",
              "  'chV5_Qwave',\n",
              "  'chV5_Rwave',\n",
              "  'chV5_Swave',\n",
              "  'chV5_RPwave',\n",
              "  'chV5_SPwave',\n",
              "  'chV5_intrinsicReflecttions',\n",
              "  'chV5_RRwaveExists',\n",
              "  'chV5_DD_RRwaveExists',\n",
              "  'chV5_RPwaveExists',\n",
              "  'chV5_DD_RPwaveExists',\n",
              "  'chV5_RTwaveExists',\n",
              "  'chV5_DD_RTwaveExists',\n",
              "  'chV6_Qwave',\n",
              "  'chV6_Rwave',\n",
              "  'chV6_Swave',\n",
              "  'chV6_RPwave',\n",
              "  'chV6_SPwave',\n",
              "  'chV6_intrinsicReflecttions',\n",
              "  'chV6_RRwaveExists',\n",
              "  'chV6_DD_RRwaveExists',\n",
              "  'chV6_RPwaveExists',\n",
              "  'chV6_DD_RPwaveExists',\n",
              "  'chV6_RTwaveExists',\n",
              "  'chV6_DD_RTwaveExists',\n",
              "  'chDI_JJwaveAmp',\n",
              "  'chDI_QwaveAmp',\n",
              "  'chDI_RwaveAmp',\n",
              "  'chDI_SwaveAmp',\n",
              "  'chDI_RPwaveAmp',\n",
              "  'chDI_SPwaveAmp',\n",
              "  'chDI_PwaveAmp',\n",
              "  'chDI_TwaveAmp',\n",
              "  'chDI_QRSA',\n",
              "  'chDI_QRSTA',\n",
              "  'chDII_JJwaveAmp',\n",
              "  'chDII_QwaveAmp',\n",
              "  'chDII_RwaveAmp',\n",
              "  'chDII_SwaveAmp',\n",
              "  'chDII_RPwaveAmp',\n",
              "  'chDII_SPwaveAmp',\n",
              "  'chDII_PwaveAmp',\n",
              "  'chDII_TwaveAmp',\n",
              "  'chDII_QRSA',\n",
              "  'chDII_QRSTA',\n",
              "  'chDIII_JJwaveAmp',\n",
              "  'chDIII_QwaveAmp',\n",
              "  'chDIII_RwaveAmp',\n",
              "  'chDIII_SwaveAmp',\n",
              "  'chDIII_RPwaveAmp',\n",
              "  'chDIII_SPwaveAmp',\n",
              "  'chDIII_PwaveAmp',\n",
              "  'chDIII_TwaveAmp',\n",
              "  'chDIII_QRSA',\n",
              "  'chDIII_QRSTA',\n",
              "  'chAVR_JJwaveAmp',\n",
              "  'chAVR_QwaveAmp',\n",
              "  'chAVR_RwaveAmp',\n",
              "  'chAVR_SwaveAmp',\n",
              "  'chAVR_RPwaveAmp',\n",
              "  'chAVR_SPwaveAmp',\n",
              "  'chAVR_PwaveAmp',\n",
              "  'chAVR_TwaveAmp',\n",
              "  'chAVR_QRSA',\n",
              "  'chAVR_QRSTA',\n",
              "  'chAVL_JJwaveAmp',\n",
              "  'chAVL_QwaveAmp',\n",
              "  'chAVL_RwaveAmp',\n",
              "  'chAVL_SwaveAmp',\n",
              "  'chAVL_RPwaveAmp',\n",
              "  'chAVL_SPwaveAmp',\n",
              "  'chAVL_PwaveAmp',\n",
              "  'chAVL_TwaveAmp',\n",
              "  'chAVL_QRSA',\n",
              "  'chAVL_QRSTA',\n",
              "  'chAVF_JJwaveAmp',\n",
              "  'chAVF_QwaveAmp',\n",
              "  'chAVF_RwaveAmp',\n",
              "  'chAVF_SwaveAmp',\n",
              "  'chAVF_RPwaveAmp',\n",
              "  'chAVF_SPwaveAmp',\n",
              "  'chAVF_PwaveAmp',\n",
              "  'chAVF_TwaveAmp',\n",
              "  'chAVF_QRSA',\n",
              "  'chAVF_QRSTA',\n",
              "  'chV1_JJwaveAmp',\n",
              "  'chV1_QwaveAmp',\n",
              "  'chV1_RwaveAmp',\n",
              "  'chV1_SwaveAmp',\n",
              "  'chV1_RPwaveAmp',\n",
              "  'chV1_SPwaveAmp',\n",
              "  'chV1_PwaveAmp',\n",
              "  'chV1_TwaveAmp',\n",
              "  'chV1_QRSA',\n",
              "  'chV1_QRSTA',\n",
              "  'chV2_JJwaveAmp',\n",
              "  'chV2_QwaveAmp',\n",
              "  'chV2_RwaveAmp',\n",
              "  'chV2_SwaveAmp',\n",
              "  'chV2_RPwaveAmp',\n",
              "  'chV2_SPwaveAmp',\n",
              "  'chV2_PwaveAmp',\n",
              "  'chV2_TwaveAmp',\n",
              "  'chV2_QRSA',\n",
              "  'chV2_QRSTA',\n",
              "  'chV3_JJwaveAmp',\n",
              "  'chV3_QwaveAmp',\n",
              "  'chV3_RwaveAmp',\n",
              "  'chV3_SwaveAmp',\n",
              "  'chV3_RPwaveAmp',\n",
              "  'chV3_SPwaveAmp',\n",
              "  'chV3_PwaveAmp',\n",
              "  'chV3_TwaveAmp',\n",
              "  'chV3_QRSA',\n",
              "  'chV3_QRSTA',\n",
              "  'chV4_JJwaveAmp',\n",
              "  'chV4_QwaveAmp',\n",
              "  'chV4_RwaveAmp',\n",
              "  'chV4_SwaveAmp',\n",
              "  'chV4_RPwaveAmp',\n",
              "  'chV4_SPwaveAmp',\n",
              "  'chV4_PwaveAmp',\n",
              "  'chV4_TwaveAmp',\n",
              "  'chV4_QRSA',\n",
              "  'chV4_QRSTA',\n",
              "  'chV5_JJwaveAmp',\n",
              "  'chV5_QwaveAmp',\n",
              "  'chV5_RwaveAmp',\n",
              "  'chV5_SwaveAmp',\n",
              "  'chV5_RPwaveAmp',\n",
              "  'chV5_SPwaveAmp',\n",
              "  'chV5_PwaveAmp',\n",
              "  'chV5_TwaveAmp',\n",
              "  'chV5_QRSA',\n",
              "  'chV5_QRSTA',\n",
              "  'chV6_JJwaveAmp',\n",
              "  'chV6_QwaveAmp',\n",
              "  'chV6_RwaveAmp',\n",
              "  'chV6_SwaveAmp',\n",
              "  'chV6_RPwaveAmp',\n",
              "  'chV6_SPwaveAmp',\n",
              "  'chV6_PwaveAmp',\n",
              "  'chV6_TwaveAmp',\n",
              "  'chV6_QRSA',\n",
              "  'chV6_QRSTA'],\n",
              " 'target_names': ['class'],\n",
              " 'DESCR': '**Author**: H. Altay Guvenir, Burak Acar, Haldun Muderrisoglu  \\n**Source**: [UCI](https://archive.ics.uci.edu/ml/datasets/arrhythmia)   \\n**Please cite**: [UCI](https://archive.ics.uci.edu/ml/citation_policy.html)\\n\\n**Cardiac Arrhythmia Database**  \\nThe aim is to determine the type of arrhythmia from the ECG recordings. This database contains 279 attributes, 206 of which are linear valued and the rest are nominal. \\n\\nConcerning the study of H. Altay Guvenir: \"The aim is to distinguish between the presence and absence of cardiac arrhythmia and to classify it in one of the 16 groups. Class 01 refers to \\'normal\\' ECG classes, 02 to 15 refers to different classes of arrhythmia and class 16 refers to the rest of unclassified ones. For the time being, there exists a computer program that makes such a classification. However, there are differences between the cardiologist\\'s and the program\\'s classification. Taking the cardiologist\\'s as a gold standard we aim to minimize this difference by means of machine learning tools.\\n \\nThe names and id numbers of the patients were recently removed from the database.\\n \\n### Attribute Information  \\n \\n       1 Age: Age in years , linear\\n       2 Sex: Sex (0 = male; 1 = female) , nominal\\n       3 Height: Height in centimeters , linear\\n       4 Weight: Weight in kilograms , linear\\n       5 QRS duration: Average of QRS duration in msec., linear\\n       6 P-R interval: Average duration between onset of P and Q waves\\n         in msec., linear\\n       7 Q-T interval: Average duration between onset of Q and offset\\n         of T waves in msec., linear\\n       8 T interval: Average duration of T wave in msec., linear\\n       9 P interval: Average duration of P wave in msec., linear\\n      Vector angles in degrees on front plane of:, linear\\n      10 QRS\\n      11 T\\n      12 P\\n      13 QRST\\n      14 J\\n      15 Heart rate: Number of heart beats per minute ,linear\\n      Of channel DI:\\n       Average width, in msec., of: linear\\n       16 Q wave\\n       17 R wave\\n       18 S wave\\n       19 R\\' wave, small peak just after R\\n       20 S\\' wave\\n       21 Number of intrinsic deflections, linear\\n       22 Existence of ragged R wave, nominal\\n       23 Existence of diphasic derivation of R wave, nominal\\n       24 Existence of ragged P wave, nominal\\n       25 Existence of diphasic derivation of P wave, nominal\\n       26 Existence of ragged T wave, nominal\\n       27 Existence of diphasic derivation of T wave, nominal\\n      Of channel DII: \\n       28 .. 39 (similar to 16 .. 27 of channel DI)\\n      Of channels DIII:\\n       40 .. 51\\n      Of channel AVR:\\n       52 .. 63\\n      Of channel AVL:\\n       64 .. 75\\n      Of channel AVF:\\n       76 .. 87\\n      Of channel V1:\\n       88 .. 99\\n      Of channel V2:\\n       100 .. 111\\n      Of channel V3:\\n       112 .. 123\\n      Of channel V4:\\n       124 .. 135\\n      Of channel V5:\\n       136 .. 147\\n      Of channel V6:\\n       148 .. 159\\n      Of channel DI:\\n       Amplitude , * 0.1 milivolt, of\\n       160 JJ wave, linear\\n       161 Q wave, linear\\n       162 R wave, linear\\n       163 S wave, linear\\n       164 R\\' wave, linear\\n       165 S\\' wave, linear\\n       166 P wave, linear\\n       167 T wave, linear\\n       168 QRSA , Sum of areas of all segments divided by 10,\\n           ( Area= width * height / 2 ), linear\\n       169 QRSTA = QRSA + 0.5 * width of T wave * 0.1 * height of T\\n           wave. (If T is diphasic then the bigger segment is\\n           considered), linear\\n      Of channel DII:\\n       170 .. 179\\n      Of channel DIII:\\n       180 .. 189\\n      Of channel AVR:\\n       190 .. 199\\n      Of channel AVL:\\n       200 .. 209\\n      Of channel AVF:\\n       210 .. 219\\n      Of channel V1:\\n       220 .. 229\\n      Of channel V2:\\n       230 .. 239\\n      Of channel V3:\\n       240 .. 249\\n      Of channel V4:\\n       250 .. 259\\n      Of channel V5:\\n       260 .. 269\\n      Of channel V6:\\n       270 .. 279\\n        \\nClass code - class - number of instances:\\n> \\n        01             Normal                245\\n        02             Ischemic changes (Coronary Artery Disease)   44\\n        03             Old Anterior Myocardial Infarction           15\\n        04             Old Inferior Myocardial Infarction           15\\n        05             Sinus tachycardy        13\\n        06             Sinus bradycardy        25\\n        07             Ventricular Premature Contraction (PVC)       3\\n        08             Supraventricular Premature Contraction       2\\n        09             Left bundle branch block         9 \\n        10             Right bundle branch block       50\\n        11             1. degree AtrioVentricular block       0 \\n        12             2. degree AV block                0\\n        13             3. degree AV block                0\\n        14             Left ventricule hypertrophy                4\\n        15             Atrial Fibrillation or Flutter               5\\n        16             Others                 22\\n\\nDownloaded from openml.org.',\n",
              " 'details': {'id': '5',\n",
              "  'name': 'arrhythmia',\n",
              "  'version': '1',\n",
              "  'description_version': '2',\n",
              "  'format': 'ARFF',\n",
              "  'creator': ['H. Altay Guvenir', 'Burak Acar', 'Haldun Muderrisoglu'],\n",
              "  'collection_date': '1998-01-01',\n",
              "  'upload_date': '2014-04-06T23:19:36',\n",
              "  'licence': 'Public',\n",
              "  'url': 'https://api.openml.org/data/v1/download/5/arrhythmia.arff',\n",
              "  'parquet_url': 'https://openml1.win.tue.nl/datasets/0000/0005/dataset_5.pq',\n",
              "  'file_id': '5',\n",
              "  'default_target_attribute': 'class',\n",
              "  'version_label': '1',\n",
              "  'citation': 'https://archive.ics.uci.edu/ml/citation_policy.html',\n",
              "  'tag': ['Machine Learning',\n",
              "   'Medicine',\n",
              "   'sport',\n",
              "   'study_1',\n",
              "   'study_41',\n",
              "   'study_76',\n",
              "   'study_93',\n",
              "   'uci'],\n",
              "  'visibility': 'public',\n",
              "  'original_data_url': 'https://archive.ics.uci.edu/ml/datasets/arrhythmia',\n",
              "  'minio_url': 'https://openml1.win.tue.nl/datasets/0000/0005/dataset_5.pq',\n",
              "  'status': 'active',\n",
              "  'processing_date': '2020-11-20 19:32:17',\n",
              "  'md5_checksum': '16b2e6fb5105155638cde38b2d117fac'},\n",
              " 'url': 'https://www.openml.org/d/5'}"
            ]
          },
          "metadata": {},
          "execution_count": 40
        }
      ]
    },
    {
      "cell_type": "code",
      "source": [
        "from sklearn.datasets import fetch_openml\n",
        "car_data=fetch_openml(name='car',version=2,parser='auto')"
      ],
      "metadata": {
        "id": "62kSuvkIpitK"
      },
      "execution_count": 3,
      "outputs": []
    },
    {
      "cell_type": "code",
      "source": [
        "type(car_data)"
      ],
      "metadata": {
        "colab": {
          "base_uri": "https://localhost:8080/",
          "height": 186
        },
        "id": "wDXb0J57qLDQ",
        "outputId": "acc5850c-8b4c-4512-f4c7-ca0c923d006e"
      },
      "execution_count": 4,
      "outputs": [
        {
          "output_type": "execute_result",
          "data": {
            "text/plain": [
              "sklearn.utils._bunch.Bunch"
            ],
            "text/html": [
              "<div style=\"max-width:800px; border: 1px solid var(--colab-border-color);\"><style>\n",
              "      pre.function-repr-contents {\n",
              "        overflow-x: auto;\n",
              "        padding: 8px 12px;\n",
              "        max-height: 500px;\n",
              "      }\n",
              "\n",
              "      pre.function-repr-contents.function-repr-contents-collapsed {\n",
              "        cursor: pointer;\n",
              "        max-height: 100px;\n",
              "      }\n",
              "    </style>\n",
              "    <pre style=\"white-space: initial; background:\n",
              "         var(--colab-secondary-surface-color); padding: 8px 12px;\n",
              "         border-bottom: 1px solid var(--colab-border-color);\"><b>sklearn.utils._bunch.Bunch</b><br/>def __init__(**kwargs)</pre><pre class=\"function-repr-contents function-repr-contents-collapsed\" style=\"\"><a class=\"filepath\" style=\"display:none\" href=\"#\">/usr/local/lib/python3.10/dist-packages/sklearn/utils/_bunch.py</a>Container object exposing keys as attributes.\n",
              "\n",
              "Bunch objects are sometimes used as an output for functions and methods.\n",
              "They extend dictionaries by enabling values to be accessed by key,\n",
              "`bunch[&quot;value_key&quot;]`, or by an attribute, `bunch.value_key`.\n",
              "\n",
              "Examples\n",
              "--------\n",
              "&gt;&gt;&gt; from sklearn.utils import Bunch\n",
              "&gt;&gt;&gt; b = Bunch(a=1, b=2)\n",
              "&gt;&gt;&gt; b[&#x27;b&#x27;]\n",
              "2\n",
              "&gt;&gt;&gt; b.b\n",
              "2\n",
              "&gt;&gt;&gt; b.a = 3\n",
              "&gt;&gt;&gt; b[&#x27;a&#x27;]\n",
              "3\n",
              "&gt;&gt;&gt; b.c = 6\n",
              "&gt;&gt;&gt; b[&#x27;c&#x27;]\n",
              "6</pre>\n",
              "      <script>\n",
              "      if (google.colab.kernel.accessAllowed && google.colab.files && google.colab.files.view) {\n",
              "        for (const element of document.querySelectorAll('.filepath')) {\n",
              "          element.style.display = 'block'\n",
              "          element.onclick = (event) => {\n",
              "            event.preventDefault();\n",
              "            event.stopPropagation();\n",
              "            google.colab.files.view(element.textContent, 4);\n",
              "          };\n",
              "        }\n",
              "      }\n",
              "      for (const element of document.querySelectorAll('.function-repr-contents')) {\n",
              "        element.onclick = (event) => {\n",
              "          event.preventDefault();\n",
              "          event.stopPropagation();\n",
              "          element.classList.toggle('function-repr-contents-collapsed');\n",
              "        };\n",
              "      }\n",
              "      </script>\n",
              "      </div>"
            ]
          },
          "metadata": {},
          "execution_count": 4
        }
      ]
    },
    {
      "cell_type": "markdown",
      "source": [],
      "metadata": {
        "id": "6iMQQpbMuD_w"
      }
    },
    {
      "cell_type": "code",
      "source": [
        "car_data.keys()"
      ],
      "metadata": {
        "colab": {
          "base_uri": "https://localhost:8080/"
        },
        "id": "UjiEmyb3qRbY",
        "outputId": "80cb222b-aaf8-47b9-9ab1-736e7cd4c575"
      },
      "execution_count": 5,
      "outputs": [
        {
          "output_type": "execute_result",
          "data": {
            "text/plain": [
              "dict_keys(['data', 'target', 'frame', 'categories', 'feature_names', 'target_names', 'DESCR', 'details', 'url'])"
            ]
          },
          "metadata": {},
          "execution_count": 5
        }
      ]
    },
    {
      "cell_type": "code",
      "source": [
        "car_data.details"
      ],
      "metadata": {
        "colab": {
          "base_uri": "https://localhost:8080/"
        },
        "id": "4Zi-Enes36s2",
        "outputId": "08c731e2-5c95-4ed0-c20d-e3d29312cb2f"
      },
      "execution_count": 6,
      "outputs": [
        {
          "output_type": "execute_result",
          "data": {
            "text/plain": [
              "{'id': '991',\n",
              " 'name': 'car',\n",
              " 'version': '2',\n",
              " 'description_version': '1',\n",
              " 'format': 'ARFF',\n",
              " 'upload_date': '2014-10-04T22:44:31',\n",
              " 'licence': 'Public',\n",
              " 'url': 'https://api.openml.org/data/v1/download/53525/car.arff',\n",
              " 'parquet_url': 'https://openml1.win.tue.nl/datasets/0000/0991/dataset_991.pq',\n",
              " 'file_id': '53525',\n",
              " 'default_target_attribute': 'binaryClass',\n",
              " 'tag': ['Chemistry',\n",
              "  'derived',\n",
              "  'Life Science',\n",
              "  'mythbusting_1',\n",
              "  'study_1',\n",
              "  'study_15',\n",
              "  'study_20',\n",
              "  'study_41',\n",
              "  'study_7'],\n",
              " 'visibility': 'public',\n",
              " 'minio_url': 'https://openml1.win.tue.nl/datasets/0000/0991/dataset_991.pq',\n",
              " 'status': 'active',\n",
              " 'processing_date': '2020-11-20 20:17:54',\n",
              " 'md5_checksum': '49c57b793eef1b8e55f297e5e019fdbf'}"
            ]
          },
          "metadata": {},
          "execution_count": 6
        }
      ]
    },
    {
      "cell_type": "code",
      "source": [
        "print(f\"Features:{car_data.feature_names},\\nDistribution of Decisions:{car_data.target.value_counts()}\")"
      ],
      "metadata": {
        "colab": {
          "base_uri": "https://localhost:8080/"
        },
        "id": "fV8Q2jr_y9xp",
        "outputId": "def5899b-0703-45c3-84c3-af3906103cb4"
      },
      "execution_count": null,
      "outputs": [
        {
          "output_type": "stream",
          "name": "stdout",
          "text": [
            "Features:['buying', 'maint', 'doors', 'persons', 'lug_boot', 'safety'],\n",
            "Distribution of Decisions:binaryClass\n",
            "P    1210\n",
            "N     518\n",
            "Name: count, dtype: int64\n"
          ]
        }
      ]
    },
    {
      "cell_type": "code",
      "source": [
        "car_data = car_data.frame\n",
        "car_data.head()"
      ],
      "metadata": {
        "colab": {
          "base_uri": "https://localhost:8080/",
          "height": 206
        },
        "id": "wXSLjawt4OC5",
        "outputId": "73f7515f-86a1-4b2f-94d6-cb8397a9e8a0"
      },
      "execution_count": 7,
      "outputs": [
        {
          "output_type": "execute_result",
          "data": {
            "text/plain": [
              "  buying  maint doors persons lug_boot safety binaryClass\n",
              "0  vhigh  vhigh     2       2    small    low           P\n",
              "1  vhigh  vhigh     2       2    small    med           P\n",
              "2  vhigh  vhigh     2       2    small   high           P\n",
              "3  vhigh  vhigh     2       2      med    low           P\n",
              "4  vhigh  vhigh     2       2      med    med           P"
            ],
            "text/html": [
              "\n",
              "  <div id=\"df-10b98ca7-a59c-48f6-9016-56fb96a606f9\" class=\"colab-df-container\">\n",
              "    <div>\n",
              "<style scoped>\n",
              "    .dataframe tbody tr th:only-of-type {\n",
              "        vertical-align: middle;\n",
              "    }\n",
              "\n",
              "    .dataframe tbody tr th {\n",
              "        vertical-align: top;\n",
              "    }\n",
              "\n",
              "    .dataframe thead th {\n",
              "        text-align: right;\n",
              "    }\n",
              "</style>\n",
              "<table border=\"1\" class=\"dataframe\">\n",
              "  <thead>\n",
              "    <tr style=\"text-align: right;\">\n",
              "      <th></th>\n",
              "      <th>buying</th>\n",
              "      <th>maint</th>\n",
              "      <th>doors</th>\n",
              "      <th>persons</th>\n",
              "      <th>lug_boot</th>\n",
              "      <th>safety</th>\n",
              "      <th>binaryClass</th>\n",
              "    </tr>\n",
              "  </thead>\n",
              "  <tbody>\n",
              "    <tr>\n",
              "      <th>0</th>\n",
              "      <td>vhigh</td>\n",
              "      <td>vhigh</td>\n",
              "      <td>2</td>\n",
              "      <td>2</td>\n",
              "      <td>small</td>\n",
              "      <td>low</td>\n",
              "      <td>P</td>\n",
              "    </tr>\n",
              "    <tr>\n",
              "      <th>1</th>\n",
              "      <td>vhigh</td>\n",
              "      <td>vhigh</td>\n",
              "      <td>2</td>\n",
              "      <td>2</td>\n",
              "      <td>small</td>\n",
              "      <td>med</td>\n",
              "      <td>P</td>\n",
              "    </tr>\n",
              "    <tr>\n",
              "      <th>2</th>\n",
              "      <td>vhigh</td>\n",
              "      <td>vhigh</td>\n",
              "      <td>2</td>\n",
              "      <td>2</td>\n",
              "      <td>small</td>\n",
              "      <td>high</td>\n",
              "      <td>P</td>\n",
              "    </tr>\n",
              "    <tr>\n",
              "      <th>3</th>\n",
              "      <td>vhigh</td>\n",
              "      <td>vhigh</td>\n",
              "      <td>2</td>\n",
              "      <td>2</td>\n",
              "      <td>med</td>\n",
              "      <td>low</td>\n",
              "      <td>P</td>\n",
              "    </tr>\n",
              "    <tr>\n",
              "      <th>4</th>\n",
              "      <td>vhigh</td>\n",
              "      <td>vhigh</td>\n",
              "      <td>2</td>\n",
              "      <td>2</td>\n",
              "      <td>med</td>\n",
              "      <td>med</td>\n",
              "      <td>P</td>\n",
              "    </tr>\n",
              "  </tbody>\n",
              "</table>\n",
              "</div>\n",
              "    <div class=\"colab-df-buttons\">\n",
              "\n",
              "  <div class=\"colab-df-container\">\n",
              "    <button class=\"colab-df-convert\" onclick=\"convertToInteractive('df-10b98ca7-a59c-48f6-9016-56fb96a606f9')\"\n",
              "            title=\"Convert this dataframe to an interactive table.\"\n",
              "            style=\"display:none;\">\n",
              "\n",
              "  <svg xmlns=\"http://www.w3.org/2000/svg\" height=\"24px\" viewBox=\"0 -960 960 960\">\n",
              "    <path d=\"M120-120v-720h720v720H120Zm60-500h600v-160H180v160Zm220 220h160v-160H400v160Zm0 220h160v-160H400v160ZM180-400h160v-160H180v160Zm440 0h160v-160H620v160ZM180-180h160v-160H180v160Zm440 0h160v-160H620v160Z\"/>\n",
              "  </svg>\n",
              "    </button>\n",
              "\n",
              "  <style>\n",
              "    .colab-df-container {\n",
              "      display:flex;\n",
              "      gap: 12px;\n",
              "    }\n",
              "\n",
              "    .colab-df-convert {\n",
              "      background-color: #E8F0FE;\n",
              "      border: none;\n",
              "      border-radius: 50%;\n",
              "      cursor: pointer;\n",
              "      display: none;\n",
              "      fill: #1967D2;\n",
              "      height: 32px;\n",
              "      padding: 0 0 0 0;\n",
              "      width: 32px;\n",
              "    }\n",
              "\n",
              "    .colab-df-convert:hover {\n",
              "      background-color: #E2EBFA;\n",
              "      box-shadow: 0px 1px 2px rgba(60, 64, 67, 0.3), 0px 1px 3px 1px rgba(60, 64, 67, 0.15);\n",
              "      fill: #174EA6;\n",
              "    }\n",
              "\n",
              "    .colab-df-buttons div {\n",
              "      margin-bottom: 4px;\n",
              "    }\n",
              "\n",
              "    [theme=dark] .colab-df-convert {\n",
              "      background-color: #3B4455;\n",
              "      fill: #D2E3FC;\n",
              "    }\n",
              "\n",
              "    [theme=dark] .colab-df-convert:hover {\n",
              "      background-color: #434B5C;\n",
              "      box-shadow: 0px 1px 3px 1px rgba(0, 0, 0, 0.15);\n",
              "      filter: drop-shadow(0px 1px 2px rgba(0, 0, 0, 0.3));\n",
              "      fill: #FFFFFF;\n",
              "    }\n",
              "  </style>\n",
              "\n",
              "    <script>\n",
              "      const buttonEl =\n",
              "        document.querySelector('#df-10b98ca7-a59c-48f6-9016-56fb96a606f9 button.colab-df-convert');\n",
              "      buttonEl.style.display =\n",
              "        google.colab.kernel.accessAllowed ? 'block' : 'none';\n",
              "\n",
              "      async function convertToInteractive(key) {\n",
              "        const element = document.querySelector('#df-10b98ca7-a59c-48f6-9016-56fb96a606f9');\n",
              "        const dataTable =\n",
              "          await google.colab.kernel.invokeFunction('convertToInteractive',\n",
              "                                                    [key], {});\n",
              "        if (!dataTable) return;\n",
              "\n",
              "        const docLinkHtml = 'Like what you see? Visit the ' +\n",
              "          '<a target=\"_blank\" href=https://colab.research.google.com/notebooks/data_table.ipynb>data table notebook</a>'\n",
              "          + ' to learn more about interactive tables.';\n",
              "        element.innerHTML = '';\n",
              "        dataTable['output_type'] = 'display_data';\n",
              "        await google.colab.output.renderOutput(dataTable, element);\n",
              "        const docLink = document.createElement('div');\n",
              "        docLink.innerHTML = docLinkHtml;\n",
              "        element.appendChild(docLink);\n",
              "      }\n",
              "    </script>\n",
              "  </div>\n",
              "\n",
              "\n",
              "<div id=\"df-d1990c5a-1294-4567-8506-76240c2e4999\">\n",
              "  <button class=\"colab-df-quickchart\" onclick=\"quickchart('df-d1990c5a-1294-4567-8506-76240c2e4999')\"\n",
              "            title=\"Suggest charts\"\n",
              "            style=\"display:none;\">\n",
              "\n",
              "<svg xmlns=\"http://www.w3.org/2000/svg\" height=\"24px\"viewBox=\"0 0 24 24\"\n",
              "     width=\"24px\">\n",
              "    <g>\n",
              "        <path d=\"M19 3H5c-1.1 0-2 .9-2 2v14c0 1.1.9 2 2 2h14c1.1 0 2-.9 2-2V5c0-1.1-.9-2-2-2zM9 17H7v-7h2v7zm4 0h-2V7h2v10zm4 0h-2v-4h2v4z\"/>\n",
              "    </g>\n",
              "</svg>\n",
              "  </button>\n",
              "\n",
              "<style>\n",
              "  .colab-df-quickchart {\n",
              "      --bg-color: #E8F0FE;\n",
              "      --fill-color: #1967D2;\n",
              "      --hover-bg-color: #E2EBFA;\n",
              "      --hover-fill-color: #174EA6;\n",
              "      --disabled-fill-color: #AAA;\n",
              "      --disabled-bg-color: #DDD;\n",
              "  }\n",
              "\n",
              "  [theme=dark] .colab-df-quickchart {\n",
              "      --bg-color: #3B4455;\n",
              "      --fill-color: #D2E3FC;\n",
              "      --hover-bg-color: #434B5C;\n",
              "      --hover-fill-color: #FFFFFF;\n",
              "      --disabled-bg-color: #3B4455;\n",
              "      --disabled-fill-color: #666;\n",
              "  }\n",
              "\n",
              "  .colab-df-quickchart {\n",
              "    background-color: var(--bg-color);\n",
              "    border: none;\n",
              "    border-radius: 50%;\n",
              "    cursor: pointer;\n",
              "    display: none;\n",
              "    fill: var(--fill-color);\n",
              "    height: 32px;\n",
              "    padding: 0;\n",
              "    width: 32px;\n",
              "  }\n",
              "\n",
              "  .colab-df-quickchart:hover {\n",
              "    background-color: var(--hover-bg-color);\n",
              "    box-shadow: 0 1px 2px rgba(60, 64, 67, 0.3), 0 1px 3px 1px rgba(60, 64, 67, 0.15);\n",
              "    fill: var(--button-hover-fill-color);\n",
              "  }\n",
              "\n",
              "  .colab-df-quickchart-complete:disabled,\n",
              "  .colab-df-quickchart-complete:disabled:hover {\n",
              "    background-color: var(--disabled-bg-color);\n",
              "    fill: var(--disabled-fill-color);\n",
              "    box-shadow: none;\n",
              "  }\n",
              "\n",
              "  .colab-df-spinner {\n",
              "    border: 2px solid var(--fill-color);\n",
              "    border-color: transparent;\n",
              "    border-bottom-color: var(--fill-color);\n",
              "    animation:\n",
              "      spin 1s steps(1) infinite;\n",
              "  }\n",
              "\n",
              "  @keyframes spin {\n",
              "    0% {\n",
              "      border-color: transparent;\n",
              "      border-bottom-color: var(--fill-color);\n",
              "      border-left-color: var(--fill-color);\n",
              "    }\n",
              "    20% {\n",
              "      border-color: transparent;\n",
              "      border-left-color: var(--fill-color);\n",
              "      border-top-color: var(--fill-color);\n",
              "    }\n",
              "    30% {\n",
              "      border-color: transparent;\n",
              "      border-left-color: var(--fill-color);\n",
              "      border-top-color: var(--fill-color);\n",
              "      border-right-color: var(--fill-color);\n",
              "    }\n",
              "    40% {\n",
              "      border-color: transparent;\n",
              "      border-right-color: var(--fill-color);\n",
              "      border-top-color: var(--fill-color);\n",
              "    }\n",
              "    60% {\n",
              "      border-color: transparent;\n",
              "      border-right-color: var(--fill-color);\n",
              "    }\n",
              "    80% {\n",
              "      border-color: transparent;\n",
              "      border-right-color: var(--fill-color);\n",
              "      border-bottom-color: var(--fill-color);\n",
              "    }\n",
              "    90% {\n",
              "      border-color: transparent;\n",
              "      border-bottom-color: var(--fill-color);\n",
              "    }\n",
              "  }\n",
              "</style>\n",
              "\n",
              "  <script>\n",
              "    async function quickchart(key) {\n",
              "      const quickchartButtonEl =\n",
              "        document.querySelector('#' + key + ' button');\n",
              "      quickchartButtonEl.disabled = true;  // To prevent multiple clicks.\n",
              "      quickchartButtonEl.classList.add('colab-df-spinner');\n",
              "      try {\n",
              "        const charts = await google.colab.kernel.invokeFunction(\n",
              "            'suggestCharts', [key], {});\n",
              "      } catch (error) {\n",
              "        console.error('Error during call to suggestCharts:', error);\n",
              "      }\n",
              "      quickchartButtonEl.classList.remove('colab-df-spinner');\n",
              "      quickchartButtonEl.classList.add('colab-df-quickchart-complete');\n",
              "    }\n",
              "    (() => {\n",
              "      let quickchartButtonEl =\n",
              "        document.querySelector('#df-d1990c5a-1294-4567-8506-76240c2e4999 button');\n",
              "      quickchartButtonEl.style.display =\n",
              "        google.colab.kernel.accessAllowed ? 'block' : 'none';\n",
              "    })();\n",
              "  </script>\n",
              "</div>\n",
              "\n",
              "    </div>\n",
              "  </div>\n"
            ],
            "application/vnd.google.colaboratory.intrinsic+json": {
              "type": "dataframe",
              "variable_name": "car_data",
              "summary": "{\n  \"name\": \"car_data\",\n  \"rows\": 1728,\n  \"fields\": [\n    {\n      \"column\": \"buying\",\n      \"properties\": {\n        \"dtype\": \"category\",\n        \"num_unique_values\": 4,\n        \"samples\": [\n          \"high\",\n          \"low\",\n          \"vhigh\"\n        ],\n        \"semantic_type\": \"\",\n        \"description\": \"\"\n      }\n    },\n    {\n      \"column\": \"maint\",\n      \"properties\": {\n        \"dtype\": \"category\",\n        \"num_unique_values\": 4,\n        \"samples\": [\n          \"high\",\n          \"low\",\n          \"vhigh\"\n        ],\n        \"semantic_type\": \"\",\n        \"description\": \"\"\n      }\n    },\n    {\n      \"column\": \"doors\",\n      \"properties\": {\n        \"dtype\": \"category\",\n        \"num_unique_values\": 4,\n        \"samples\": [\n          \"3\",\n          \"5more\",\n          \"2\"\n        ],\n        \"semantic_type\": \"\",\n        \"description\": \"\"\n      }\n    },\n    {\n      \"column\": \"persons\",\n      \"properties\": {\n        \"dtype\": \"category\",\n        \"num_unique_values\": 3,\n        \"samples\": [\n          \"2\",\n          \"4\",\n          \"more\"\n        ],\n        \"semantic_type\": \"\",\n        \"description\": \"\"\n      }\n    },\n    {\n      \"column\": \"lug_boot\",\n      \"properties\": {\n        \"dtype\": \"category\",\n        \"num_unique_values\": 3,\n        \"samples\": [\n          \"small\",\n          \"med\",\n          \"big\"\n        ],\n        \"semantic_type\": \"\",\n        \"description\": \"\"\n      }\n    },\n    {\n      \"column\": \"safety\",\n      \"properties\": {\n        \"dtype\": \"category\",\n        \"num_unique_values\": 3,\n        \"samples\": [\n          \"low\",\n          \"med\",\n          \"high\"\n        ],\n        \"semantic_type\": \"\",\n        \"description\": \"\"\n      }\n    },\n    {\n      \"column\": \"binaryClass\",\n      \"properties\": {\n        \"dtype\": \"category\",\n        \"num_unique_values\": 2,\n        \"samples\": [\n          \"N\",\n          \"P\"\n        ],\n        \"semantic_type\": \"\",\n        \"description\": \"\"\n      }\n    }\n  ]\n}"
            }
          },
          "metadata": {},
          "execution_count": 7
        }
      ]
    },
    {
      "cell_type": "markdown",
      "source": [
        "# 3- Exploratory Analysis\n",
        "Splitting Data into Training and Test sets"
      ],
      "metadata": {
        "id": "fyI7DBqJ4ayz"
      }
    },
    {
      "cell_type": "code",
      "source": [
        "!pip install seaborn\n",
        "import seaborn as sns # Make sure you import seaborn\n",
        "import pandas as pd\n",
        "from sklearn.datasets import fetch_openml\n",
        "car_data=fetch_openml(name='car',version=2,parser='auto')\n",
        "\n",
        "df = pd.DataFrame(car_data['data'], columns=car_data['feature_names'])\n",
        "df['BinaryClass'] = car_data.target\n",
        "\n",
        "sns.countplot(x='BinaryClass', hue='doors', data=df, palette='rainbow') # Use 'BinaryClass' and the dataframe"
      ],
      "metadata": {
        "colab": {
          "base_uri": "https://localhost:8080/",
          "height": 741
        },
        "id": "iV2CLRJg1q_K",
        "outputId": "7f558e06-d469-4270-95e1-bec6e508ee4f"
      },
      "execution_count": null,
      "outputs": [
        {
          "output_type": "stream",
          "name": "stdout",
          "text": [
            "Requirement already satisfied: seaborn in /usr/local/lib/python3.10/dist-packages (0.13.1)\n",
            "Requirement already satisfied: numpy!=1.24.0,>=1.20 in /usr/local/lib/python3.10/dist-packages (from seaborn) (1.26.4)\n",
            "Requirement already satisfied: pandas>=1.2 in /usr/local/lib/python3.10/dist-packages (from seaborn) (2.1.4)\n",
            "Requirement already satisfied: matplotlib!=3.6.1,>=3.4 in /usr/local/lib/python3.10/dist-packages (from seaborn) (3.7.1)\n",
            "Requirement already satisfied: contourpy>=1.0.1 in /usr/local/lib/python3.10/dist-packages (from matplotlib!=3.6.1,>=3.4->seaborn) (1.3.0)\n",
            "Requirement already satisfied: cycler>=0.10 in /usr/local/lib/python3.10/dist-packages (from matplotlib!=3.6.1,>=3.4->seaborn) (0.12.1)\n",
            "Requirement already satisfied: fonttools>=4.22.0 in /usr/local/lib/python3.10/dist-packages (from matplotlib!=3.6.1,>=3.4->seaborn) (4.53.1)\n",
            "Requirement already satisfied: kiwisolver>=1.0.1 in /usr/local/lib/python3.10/dist-packages (from matplotlib!=3.6.1,>=3.4->seaborn) (1.4.7)\n",
            "Requirement already satisfied: packaging>=20.0 in /usr/local/lib/python3.10/dist-packages (from matplotlib!=3.6.1,>=3.4->seaborn) (24.1)\n",
            "Requirement already satisfied: pillow>=6.2.0 in /usr/local/lib/python3.10/dist-packages (from matplotlib!=3.6.1,>=3.4->seaborn) (10.4.0)\n",
            "Requirement already satisfied: pyparsing>=2.3.1 in /usr/local/lib/python3.10/dist-packages (from matplotlib!=3.6.1,>=3.4->seaborn) (3.1.4)\n",
            "Requirement already satisfied: python-dateutil>=2.7 in /usr/local/lib/python3.10/dist-packages (from matplotlib!=3.6.1,>=3.4->seaborn) (2.8.2)\n",
            "Requirement already satisfied: pytz>=2020.1 in /usr/local/lib/python3.10/dist-packages (from pandas>=1.2->seaborn) (2024.2)\n",
            "Requirement already satisfied: tzdata>=2022.1 in /usr/local/lib/python3.10/dist-packages (from pandas>=1.2->seaborn) (2024.1)\n",
            "Requirement already satisfied: six>=1.5 in /usr/local/lib/python3.10/dist-packages (from python-dateutil>=2.7->matplotlib!=3.6.1,>=3.4->seaborn) (1.16.0)\n"
          ]
        },
        {
          "output_type": "execute_result",
          "data": {
            "text/plain": [
              "<Axes: xlabel='BinaryClass', ylabel='count'>"
            ]
          },
          "metadata": {},
          "execution_count": 33
        },
        {
          "output_type": "display_data",
          "data": {
            "text/plain": [
              "<Figure size 640x480 with 1 Axes>"
            ],
            "image/png": "[encoded data removed]"
          },
          "metadata": {}
        }
      ]
    },
    {
      "cell_type": "code",
      "source": [
        "from sklearn.model_selection import train_test_split\n",
        "train_data,test_data=train_test_split(car_data.data,test_size=0.2,random_state=20)\n",
        "car_data.data.shape,train_data.shape,test_data.shape"
      ],
      "metadata": {
        "colab": {
          "base_uri": "https://localhost:8080/"
        },
        "id": "jZT3UQmm2Pk9",
        "outputId": "646aac05-6423-4c08-cbfa-2214dc27c7ec"
      },
      "execution_count": null,
      "outputs": [
        {
          "output_type": "execute_result",
          "data": {
            "text/plain": [
              "((1728, 6), (1382, 6), (346, 6))"
            ]
          },
          "metadata": {},
          "execution_count": 36
        }
      ]
    },
    {
      "cell_type": "code",
      "source": [
        "from sklearn.model_selection import train_test_split\n",
        "train_data,test_data=train_test_split(car_data,test_size=0.3,random_state=20)\n",
        "print('the Size of training data is :{}\\n The size of testing data is : {}'.format(len(train_data),len(test_data)))\n",
        ""
      ],
      "metadata": {
        "colab": {
          "base_uri": "https://localhost:8080/"
        },
        "id": "Bcv7Eqom4qJM",
        "outputId": "69e1f09f-2a92-4c34-db3b-f341227fd487"
      },
      "execution_count": 8,
      "outputs": [
        {
          "output_type": "stream",
          "name": "stdout",
          "text": [
            "the Size of training data is :1209\n",
            " The size of testing data is : 519\n"
          ]
        }
      ]
    },
    {
      "cell_type": "code",
      "source": [
        "train_data.describe()"
      ],
      "metadata": {
        "colab": {
          "base_uri": "https://localhost:8080/",
          "height": 175
        },
        "id": "qZ6dW7DV0zhD",
        "outputId": "f33870b6-d52e-4767-ca82-4d75a32f5c59"
      },
      "execution_count": null,
      "outputs": [
        {
          "output_type": "execute_result",
          "data": {
            "text/plain": [
              "       buying maint doors persons lug_boot safety\n",
              "count    1382  1382  1382    1382     1382   1382\n",
              "unique      4     4     4       3        3      3\n",
              "top       med   med     2       2      med    low\n",
              "freq      364   351   359     471      467    462"
            ],
            "text/html": [
              "\n",
              "  <div id=\"df-590743de-b90a-4506-81e0-e951ff7fb348\" class=\"colab-df-container\">\n",
              "    <div>\n",
              "<style scoped>\n",
              "    .dataframe tbody tr th:only-of-type {\n",
              "        vertical-align: middle;\n",
              "    }\n",
              "\n",
              "    .dataframe tbody tr th {\n",
              "        vertical-align: top;\n",
              "    }\n",
              "\n",
              "    .dataframe thead th {\n",
              "        text-align: right;\n",
              "    }\n",
              "</style>\n",
              "<table border=\"1\" class=\"dataframe\">\n",
              "  <thead>\n",
              "    <tr style=\"text-align: right;\">\n",
              "      <th></th>\n",
              "      <th>buying</th>\n",
              "      <th>maint</th>\n",
              "      <th>doors</th>\n",
              "      <th>persons</th>\n",
              "      <th>lug_boot</th>\n",
              "      <th>safety</th>\n",
              "    </tr>\n",
              "  </thead>\n",
              "  <tbody>\n",
              "    <tr>\n",
              "      <th>count</th>\n",
              "      <td>1382</td>\n",
              "      <td>1382</td>\n",
              "      <td>1382</td>\n",
              "      <td>1382</td>\n",
              "      <td>1382</td>\n",
              "      <td>1382</td>\n",
              "    </tr>\n",
              "    <tr>\n",
              "      <th>unique</th>\n",
              "      <td>4</td>\n",
              "      <td>4</td>\n",
              "      <td>4</td>\n",
              "      <td>3</td>\n",
              "      <td>3</td>\n",
              "      <td>3</td>\n",
              "    </tr>\n",
              "    <tr>\n",
              "      <th>top</th>\n",
              "      <td>med</td>\n",
              "      <td>med</td>\n",
              "      <td>2</td>\n",
              "      <td>2</td>\n",
              "      <td>med</td>\n",
              "      <td>low</td>\n",
              "    </tr>\n",
              "    <tr>\n",
              "      <th>freq</th>\n",
              "      <td>364</td>\n",
              "      <td>351</td>\n",
              "      <td>359</td>\n",
              "      <td>471</td>\n",
              "      <td>467</td>\n",
              "      <td>462</td>\n",
              "    </tr>\n",
              "  </tbody>\n",
              "</table>\n",
              "</div>\n",
              "    <div class=\"colab-df-buttons\">\n",
              "\n",
              "  <div class=\"colab-df-container\">\n",
              "    <button class=\"colab-df-convert\" onclick=\"convertToInteractive('df-590743de-b90a-4506-81e0-e951ff7fb348')\"\n",
              "            title=\"Convert this dataframe to an interactive table.\"\n",
              "            style=\"display:none;\">\n",
              "\n",
              "  <svg xmlns=\"http://www.w3.org/2000/svg\" height=\"24px\" viewBox=\"0 -960 960 960\">\n",
              "    <path d=\"M120-120v-720h720v720H120Zm60-500h600v-160H180v160Zm220 220h160v-160H400v160Zm0 220h160v-160H400v160ZM180-400h160v-160H180v160Zm440 0h160v-160H620v160ZM180-180h160v-160H180v160Zm440 0h160v-160H620v160Z\"/>\n",
              "  </svg>\n",
              "    </button>\n",
              "\n",
              "  <style>\n",
              "    .colab-df-container {\n",
              "      display:flex;\n",
              "      gap: 12px;\n",
              "    }\n",
              "\n",
              "    .colab-df-convert {\n",
              "      background-color: #E8F0FE;\n",
              "      border: none;\n",
              "      border-radius: 50%;\n",
              "      cursor: pointer;\n",
              "      display: none;\n",
              "      fill: #1967D2;\n",
              "      height: 32px;\n",
              "      padding: 0 0 0 0;\n",
              "      width: 32px;\n",
              "    }\n",
              "\n",
              "    .colab-df-convert:hover {\n",
              "      background-color: #E2EBFA;\n",
              "      box-shadow: 0px 1px 2px rgba(60, 64, 67, 0.3), 0px 1px 3px 1px rgba(60, 64, 67, 0.15);\n",
              "      fill: #174EA6;\n",
              "    }\n",
              "\n",
              "    .colab-df-buttons div {\n",
              "      margin-bottom: 4px;\n",
              "    }\n",
              "\n",
              "    [theme=dark] .colab-df-convert {\n",
              "      background-color: #3B4455;\n",
              "      fill: #D2E3FC;\n",
              "    }\n",
              "\n",
              "    [theme=dark] .colab-df-convert:hover {\n",
              "      background-color: #434B5C;\n",
              "      box-shadow: 0px 1px 3px 1px rgba(0, 0, 0, 0.15);\n",
              "      filter: drop-shadow(0px 1px 2px rgba(0, 0, 0, 0.3));\n",
              "      fill: #FFFFFF;\n",
              "    }\n",
              "  </style>\n",
              "\n",
              "    <script>\n",
              "      const buttonEl =\n",
              "        document.querySelector('#df-590743de-b90a-4506-81e0-e951ff7fb348 button.colab-df-convert');\n",
              "      buttonEl.style.display =\n",
              "        google.colab.kernel.accessAllowed ? 'block' : 'none';\n",
              "\n",
              "      async function convertToInteractive(key) {\n",
              "        const element = document.querySelector('#df-590743de-b90a-4506-81e0-e951ff7fb348');\n",
              "        const dataTable =\n",
              "          await google.colab.kernel.invokeFunction('convertToInteractive',\n",
              "                                                    [key], {});\n",
              "        if (!dataTable) return;\n",
              "\n",
              "        const docLinkHtml = 'Like what you see? Visit the ' +\n",
              "          '<a target=\"_blank\" href=https://colab.research.google.com/notebooks/data_table.ipynb>data table notebook</a>'\n",
              "          + ' to learn more about interactive tables.';\n",
              "        element.innerHTML = '';\n",
              "        dataTable['output_type'] = 'display_data';\n",
              "        await google.colab.output.renderOutput(dataTable, element);\n",
              "        const docLink = document.createElement('div');\n",
              "        docLink.innerHTML = docLinkHtml;\n",
              "        element.appendChild(docLink);\n",
              "      }\n",
              "    </script>\n",
              "  </div>\n",
              "\n",
              "\n",
              "<div id=\"df-439dacd6-f78e-4d97-9f47-18ae4c1c17df\">\n",
              "  <button class=\"colab-df-quickchart\" onclick=\"quickchart('df-439dacd6-f78e-4d97-9f47-18ae4c1c17df')\"\n",
              "            title=\"Suggest charts\"\n",
              "            style=\"display:none;\">\n",
              "\n",
              "<svg xmlns=\"http://www.w3.org/2000/svg\" height=\"24px\"viewBox=\"0 0 24 24\"\n",
              "     width=\"24px\">\n",
              "    <g>\n",
              "        <path d=\"M19 3H5c-1.1 0-2 .9-2 2v14c0 1.1.9 2 2 2h14c1.1 0 2-.9 2-2V5c0-1.1-.9-2-2-2zM9 17H7v-7h2v7zm4 0h-2V7h2v10zm4 0h-2v-4h2v4z\"/>\n",
              "    </g>\n",
              "</svg>\n",
              "  </button>\n",
              "\n",
              "<style>\n",
              "  .colab-df-quickchart {\n",
              "      --bg-color: #E8F0FE;\n",
              "      --fill-color: #1967D2;\n",
              "      --hover-bg-color: #E2EBFA;\n",
              "      --hover-fill-color: #174EA6;\n",
              "      --disabled-fill-color: #AAA;\n",
              "      --disabled-bg-color: #DDD;\n",
              "  }\n",
              "\n",
              "  [theme=dark] .colab-df-quickchart {\n",
              "      --bg-color: #3B4455;\n",
              "      --fill-color: #D2E3FC;\n",
              "      --hover-bg-color: #434B5C;\n",
              "      --hover-fill-color: #FFFFFF;\n",
              "      --disabled-bg-color: #3B4455;\n",
              "      --disabled-fill-color: #666;\n",
              "  }\n",
              "\n",
              "  .colab-df-quickchart {\n",
              "    background-color: var(--bg-color);\n",
              "    border: none;\n",
              "    border-radius: 50%;\n",
              "    cursor: pointer;\n",
              "    display: none;\n",
              "    fill: var(--fill-color);\n",
              "    height: 32px;\n",
              "    padding: 0;\n",
              "    width: 32px;\n",
              "  }\n",
              "\n",
              "  .colab-df-quickchart:hover {\n",
              "    background-color: var(--hover-bg-color);\n",
              "    box-shadow: 0 1px 2px rgba(60, 64, 67, 0.3), 0 1px 3px 1px rgba(60, 64, 67, 0.15);\n",
              "    fill: var(--button-hover-fill-color);\n",
              "  }\n",
              "\n",
              "  .colab-df-quickchart-complete:disabled,\n",
              "  .colab-df-quickchart-complete:disabled:hover {\n",
              "    background-color: var(--disabled-bg-color);\n",
              "    fill: var(--disabled-fill-color);\n",
              "    box-shadow: none;\n",
              "  }\n",
              "\n",
              "  .colab-df-spinner {\n",
              "    border: 2px solid var(--fill-color);\n",
              "    border-color: transparent;\n",
              "    border-bottom-color: var(--fill-color);\n",
              "    animation:\n",
              "      spin 1s steps(1) infinite;\n",
              "  }\n",
              "\n",
              "  @keyframes spin {\n",
              "    0% {\n",
              "      border-color: transparent;\n",
              "      border-bottom-color: var(--fill-color);\n",
              "      border-left-color: var(--fill-color);\n",
              "    }\n",
              "    20% {\n",
              "      border-color: transparent;\n",
              "      border-left-color: var(--fill-color);\n",
              "      border-top-color: var(--fill-color);\n",
              "    }\n",
              "    30% {\n",
              "      border-color: transparent;\n",
              "      border-left-color: var(--fill-color);\n",
              "      border-top-color: var(--fill-color);\n",
              "      border-right-color: var(--fill-color);\n",
              "    }\n",
              "    40% {\n",
              "      border-color: transparent;\n",
              "      border-right-color: var(--fill-color);\n",
              "      border-top-color: var(--fill-color);\n",
              "    }\n",
              "    60% {\n",
              "      border-color: transparent;\n",
              "      border-right-color: var(--fill-color);\n",
              "    }\n",
              "    80% {\n",
              "      border-color: transparent;\n",
              "      border-right-color: var(--fill-color);\n",
              "      border-bottom-color: var(--fill-color);\n",
              "    }\n",
              "    90% {\n",
              "      border-color: transparent;\n",
              "      border-bottom-color: var(--fill-color);\n",
              "    }\n",
              "  }\n",
              "</style>\n",
              "\n",
              "  <script>\n",
              "    async function quickchart(key) {\n",
              "      const quickchartButtonEl =\n",
              "        document.querySelector('#' + key + ' button');\n",
              "      quickchartButtonEl.disabled = true;  // To prevent multiple clicks.\n",
              "      quickchartButtonEl.classList.add('colab-df-spinner');\n",
              "      try {\n",
              "        const charts = await google.colab.kernel.invokeFunction(\n",
              "            'suggestCharts', [key], {});\n",
              "      } catch (error) {\n",
              "        console.error('Error during call to suggestCharts:', error);\n",
              "      }\n",
              "      quickchartButtonEl.classList.remove('colab-df-spinner');\n",
              "      quickchartButtonEl.classList.add('colab-df-quickchart-complete');\n",
              "    }\n",
              "    (() => {\n",
              "      let quickchartButtonEl =\n",
              "        document.querySelector('#df-439dacd6-f78e-4d97-9f47-18ae4c1c17df button');\n",
              "      quickchartButtonEl.style.display =\n",
              "        google.colab.kernel.accessAllowed ? 'block' : 'none';\n",
              "    })();\n",
              "  </script>\n",
              "</div>\n",
              "\n",
              "    </div>\n",
              "  </div>\n"
            ],
            "application/vnd.google.colaboratory.intrinsic+json": {
              "type": "dataframe",
              "summary": "{\n  \"name\": \"train_data\",\n  \"rows\": 4,\n  \"fields\": [\n    {\n      \"column\": \"buying\",\n      \"properties\": {\n        \"dtype\": \"string\",\n        \"num_unique_values\": 4,\n        \"samples\": [\n          4,\n          \"364\",\n          \"1382\"\n        ],\n        \"semantic_type\": \"\",\n        \"description\": \"\"\n      }\n    },\n    {\n      \"column\": \"maint\",\n      \"properties\": {\n        \"dtype\": \"string\",\n        \"num_unique_values\": 4,\n        \"samples\": [\n          4,\n          \"351\",\n          \"1382\"\n        ],\n        \"semantic_type\": \"\",\n        \"description\": \"\"\n      }\n    },\n    {\n      \"column\": \"doors\",\n      \"properties\": {\n        \"dtype\": \"string\",\n        \"num_unique_values\": 4,\n        \"samples\": [\n          4,\n          \"359\",\n          \"1382\"\n        ],\n        \"semantic_type\": \"\",\n        \"description\": \"\"\n      }\n    },\n    {\n      \"column\": \"persons\",\n      \"properties\": {\n        \"dtype\": \"string\",\n        \"num_unique_values\": 4,\n        \"samples\": [\n          3,\n          \"471\",\n          \"1382\"\n        ],\n        \"semantic_type\": \"\",\n        \"description\": \"\"\n      }\n    },\n    {\n      \"column\": \"lug_boot\",\n      \"properties\": {\n        \"dtype\": \"string\",\n        \"num_unique_values\": 4,\n        \"samples\": [\n          3,\n          \"467\",\n          \"1382\"\n        ],\n        \"semantic_type\": \"\",\n        \"description\": \"\"\n      }\n    },\n    {\n      \"column\": \"safety\",\n      \"properties\": {\n        \"dtype\": \"string\",\n        \"num_unique_values\": 4,\n        \"samples\": [\n          3,\n          \"462\",\n          \"1382\"\n        ],\n        \"semantic_type\": \"\",\n        \"description\": \"\"\n      }\n    }\n  ]\n}"
            }
          },
          "metadata": {},
          "execution_count": 37
        }
      ]
    },
    {
      "cell_type": "markdown",
      "source": [
        "## Checking missing values"
      ],
      "metadata": {
        "id": "E_zaIjQIHpX7"
      }
    },
    {
      "cell_type": "code",
      "source": [
        "train_data.isnull().sum()"
      ],
      "metadata": {
        "colab": {
          "base_uri": "https://localhost:8080/",
          "height": 303
        },
        "id": "EsB4u8Ac1F3j",
        "outputId": "d662b129-6aa9-4268-ac58-93554d8da6aa"
      },
      "execution_count": 9,
      "outputs": [
        {
          "output_type": "execute_result",
          "data": {
            "text/plain": [
              "buying         0\n",
              "maint          0\n",
              "doors          0\n",
              "persons        0\n",
              "lug_boot       0\n",
              "safety         0\n",
              "binaryClass    0\n",
              "dtype: int64"
            ],
            "text/html": [
              "<div>\n",
              "<style scoped>\n",
              "    .dataframe tbody tr th:only-of-type {\n",
              "        vertical-align: middle;\n",
              "    }\n",
              "\n",
              "    .dataframe tbody tr th {\n",
              "        vertical-align: top;\n",
              "    }\n",
              "\n",
              "    .dataframe thead th {\n",
              "        text-align: right;\n",
              "    }\n",
              "</style>\n",
              "<table border=\"1\" class=\"dataframe\">\n",
              "  <thead>\n",
              "    <tr style=\"text-align: right;\">\n",
              "      <th></th>\n",
              "      <th>0</th>\n",
              "    </tr>\n",
              "  </thead>\n",
              "  <tbody>\n",
              "    <tr>\n",
              "      <th>buying</th>\n",
              "      <td>0</td>\n",
              "    </tr>\n",
              "    <tr>\n",
              "      <th>maint</th>\n",
              "      <td>0</td>\n",
              "    </tr>\n",
              "    <tr>\n",
              "      <th>doors</th>\n",
              "      <td>0</td>\n",
              "    </tr>\n",
              "    <tr>\n",
              "      <th>persons</th>\n",
              "      <td>0</td>\n",
              "    </tr>\n",
              "    <tr>\n",
              "      <th>lug_boot</th>\n",
              "      <td>0</td>\n",
              "    </tr>\n",
              "    <tr>\n",
              "      <th>safety</th>\n",
              "      <td>0</td>\n",
              "    </tr>\n",
              "    <tr>\n",
              "      <th>binaryClass</th>\n",
              "      <td>0</td>\n",
              "    </tr>\n",
              "  </tbody>\n",
              "</table>\n",
              "</div><br><label><b>dtype:</b> int64</label>"
            ]
          },
          "metadata": {},
          "execution_count": 9
        }
      ]
    },
    {
      "cell_type": "code",
      "source": [
        "train_data.columns"
      ],
      "metadata": {
        "colab": {
          "base_uri": "https://localhost:8080/"
        },
        "id": "q604mpCRH6Th",
        "outputId": "2eea4be2-b284-4bc5-d4fb-8610c16e6116"
      },
      "execution_count": 44,
      "outputs": [
        {
          "output_type": "execute_result",
          "data": {
            "text/plain": [
              "Index(['buying', 'maint', 'doors', 'persons', 'lug_boot', 'safety',\n",
              "       'binaryClass'],\n",
              "      dtype='object')"
            ]
          },
          "metadata": {},
          "execution_count": 44
        }
      ]
    },
    {
      "cell_type": "code",
      "source": [
        "train_data['buying'].value_counts()"
      ],
      "metadata": {
        "colab": {
          "base_uri": "https://localhost:8080/",
          "height": 241
        },
        "id": "MDZWqnRY41q_",
        "outputId": "470dc144-4c82-49ef-b468-ccd044cd9618"
      },
      "execution_count": 10,
      "outputs": [
        {
          "output_type": "execute_result",
          "data": {
            "text/plain": [
              "buying\n",
              "med      327\n",
              "high     307\n",
              "vhigh    291\n",
              "low      284\n",
              "Name: count, dtype: int64"
            ],
            "text/html": [
              "<div>\n",
              "<style scoped>\n",
              "    .dataframe tbody tr th:only-of-type {\n",
              "        vertical-align: middle;\n",
              "    }\n",
              "\n",
              "    .dataframe tbody tr th {\n",
              "        vertical-align: top;\n",
              "    }\n",
              "\n",
              "    .dataframe thead th {\n",
              "        text-align: right;\n",
              "    }\n",
              "</style>\n",
              "<table border=\"1\" class=\"dataframe\">\n",
              "  <thead>\n",
              "    <tr style=\"text-align: right;\">\n",
              "      <th></th>\n",
              "      <th>count</th>\n",
              "    </tr>\n",
              "    <tr>\n",
              "      <th>buying</th>\n",
              "      <th></th>\n",
              "    </tr>\n",
              "  </thead>\n",
              "  <tbody>\n",
              "    <tr>\n",
              "      <th>med</th>\n",
              "      <td>327</td>\n",
              "    </tr>\n",
              "    <tr>\n",
              "      <th>high</th>\n",
              "      <td>307</td>\n",
              "    </tr>\n",
              "    <tr>\n",
              "      <th>vhigh</th>\n",
              "      <td>291</td>\n",
              "    </tr>\n",
              "    <tr>\n",
              "      <th>low</th>\n",
              "      <td>284</td>\n",
              "    </tr>\n",
              "  </tbody>\n",
              "</table>\n",
              "</div><br><label><b>dtype:</b> int64</label>"
            ]
          },
          "metadata": {},
          "execution_count": 10
        }
      ]
    },
    {
      "cell_type": "code",
      "source": [
        "train_data['maint'].value_counts()"
      ],
      "metadata": {
        "colab": {
          "base_uri": "https://localhost:8080/",
          "height": 241
        },
        "id": "k2bpPSa1ISvS",
        "outputId": "8ec2e9bc-562d-4ed2-f680-ebd1fd7aa50f"
      },
      "execution_count": 45,
      "outputs": [
        {
          "output_type": "execute_result",
          "data": {
            "text/plain": [
              "maint\n",
              "high     311\n",
              "med      311\n",
              "vhigh    294\n",
              "low      293\n",
              "Name: count, dtype: int64"
            ],
            "text/html": [
              "<div>\n",
              "<style scoped>\n",
              "    .dataframe tbody tr th:only-of-type {\n",
              "        vertical-align: middle;\n",
              "    }\n",
              "\n",
              "    .dataframe tbody tr th {\n",
              "        vertical-align: top;\n",
              "    }\n",
              "\n",
              "    .dataframe thead th {\n",
              "        text-align: right;\n",
              "    }\n",
              "</style>\n",
              "<table border=\"1\" class=\"dataframe\">\n",
              "  <thead>\n",
              "    <tr style=\"text-align: right;\">\n",
              "      <th></th>\n",
              "      <th>count</th>\n",
              "    </tr>\n",
              "    <tr>\n",
              "      <th>maint</th>\n",
              "      <th></th>\n",
              "    </tr>\n",
              "  </thead>\n",
              "  <tbody>\n",
              "    <tr>\n",
              "      <th>high</th>\n",
              "      <td>311</td>\n",
              "    </tr>\n",
              "    <tr>\n",
              "      <th>med</th>\n",
              "      <td>311</td>\n",
              "    </tr>\n",
              "    <tr>\n",
              "      <th>vhigh</th>\n",
              "      <td>294</td>\n",
              "    </tr>\n",
              "    <tr>\n",
              "      <th>low</th>\n",
              "      <td>293</td>\n",
              "    </tr>\n",
              "  </tbody>\n",
              "</table>\n",
              "</div><br><label><b>dtype:</b> int64</label>"
            ]
          },
          "metadata": {},
          "execution_count": 45
        }
      ]
    },
    {
      "cell_type": "code",
      "source": [
        "train_data['doors'].value_counts()"
      ],
      "metadata": {
        "colab": {
          "base_uri": "https://localhost:8080/",
          "height": 241
        },
        "id": "apIJE5aa5MVc",
        "outputId": "5810fac2-ac02-4f1b-8e32-97b4d865f6ad"
      },
      "execution_count": 11,
      "outputs": [
        {
          "output_type": "execute_result",
          "data": {
            "text/plain": [
              "doors\n",
              "5more    319\n",
              "2        312\n",
              "4        296\n",
              "3        282\n",
              "Name: count, dtype: int64"
            ],
            "text/html": [
              "<div>\n",
              "<style scoped>\n",
              "    .dataframe tbody tr th:only-of-type {\n",
              "        vertical-align: middle;\n",
              "    }\n",
              "\n",
              "    .dataframe tbody tr th {\n",
              "        vertical-align: top;\n",
              "    }\n",
              "\n",
              "    .dataframe thead th {\n",
              "        text-align: right;\n",
              "    }\n",
              "</style>\n",
              "<table border=\"1\" class=\"dataframe\">\n",
              "  <thead>\n",
              "    <tr style=\"text-align: right;\">\n",
              "      <th></th>\n",
              "      <th>count</th>\n",
              "    </tr>\n",
              "    <tr>\n",
              "      <th>doors</th>\n",
              "      <th></th>\n",
              "    </tr>\n",
              "  </thead>\n",
              "  <tbody>\n",
              "    <tr>\n",
              "      <th>5more</th>\n",
              "      <td>319</td>\n",
              "    </tr>\n",
              "    <tr>\n",
              "      <th>2</th>\n",
              "      <td>312</td>\n",
              "    </tr>\n",
              "    <tr>\n",
              "      <th>4</th>\n",
              "      <td>296</td>\n",
              "    </tr>\n",
              "    <tr>\n",
              "      <th>3</th>\n",
              "      <td>282</td>\n",
              "    </tr>\n",
              "  </tbody>\n",
              "</table>\n",
              "</div><br><label><b>dtype:</b> int64</label>"
            ]
          },
          "metadata": {},
          "execution_count": 11
        }
      ]
    },
    {
      "cell_type": "code",
      "source": [
        "train_data['persons'].value_counts()"
      ],
      "metadata": {
        "colab": {
          "base_uri": "https://localhost:8080/",
          "height": 209
        },
        "id": "ngrOsdl-5PVG",
        "outputId": "a03b47f2-b21f-4fa3-e48f-cc5ab17bafee"
      },
      "execution_count": 12,
      "outputs": [
        {
          "output_type": "execute_result",
          "data": {
            "text/plain": [
              "persons\n",
              "more    418\n",
              "2       407\n",
              "4       384\n",
              "Name: count, dtype: int64"
            ],
            "text/html": [
              "<div>\n",
              "<style scoped>\n",
              "    .dataframe tbody tr th:only-of-type {\n",
              "        vertical-align: middle;\n",
              "    }\n",
              "\n",
              "    .dataframe tbody tr th {\n",
              "        vertical-align: top;\n",
              "    }\n",
              "\n",
              "    .dataframe thead th {\n",
              "        text-align: right;\n",
              "    }\n",
              "</style>\n",
              "<table border=\"1\" class=\"dataframe\">\n",
              "  <thead>\n",
              "    <tr style=\"text-align: right;\">\n",
              "      <th></th>\n",
              "      <th>count</th>\n",
              "    </tr>\n",
              "    <tr>\n",
              "      <th>persons</th>\n",
              "      <th></th>\n",
              "    </tr>\n",
              "  </thead>\n",
              "  <tbody>\n",
              "    <tr>\n",
              "      <th>more</th>\n",
              "      <td>418</td>\n",
              "    </tr>\n",
              "    <tr>\n",
              "      <th>2</th>\n",
              "      <td>407</td>\n",
              "    </tr>\n",
              "    <tr>\n",
              "      <th>4</th>\n",
              "      <td>384</td>\n",
              "    </tr>\n",
              "  </tbody>\n",
              "</table>\n",
              "</div><br><label><b>dtype:</b> int64</label>"
            ]
          },
          "metadata": {},
          "execution_count": 12
        }
      ]
    },
    {
      "cell_type": "code",
      "source": [
        "train_data['lug_boot'].value_counts()"
      ],
      "metadata": {
        "colab": {
          "base_uri": "https://localhost:8080/",
          "height": 209
        },
        "id": "Nrqi0gAr5Rjr",
        "outputId": "9e798cb3-bc19-49ad-f40d-ae83f1a73213"
      },
      "execution_count": 13,
      "outputs": [
        {
          "output_type": "execute_result",
          "data": {
            "text/plain": [
              "lug_boot\n",
              "big      411\n",
              "med      405\n",
              "small    393\n",
              "Name: count, dtype: int64"
            ],
            "text/html": [
              "<div>\n",
              "<style scoped>\n",
              "    .dataframe tbody tr th:only-of-type {\n",
              "        vertical-align: middle;\n",
              "    }\n",
              "\n",
              "    .dataframe tbody tr th {\n",
              "        vertical-align: top;\n",
              "    }\n",
              "\n",
              "    .dataframe thead th {\n",
              "        text-align: right;\n",
              "    }\n",
              "</style>\n",
              "<table border=\"1\" class=\"dataframe\">\n",
              "  <thead>\n",
              "    <tr style=\"text-align: right;\">\n",
              "      <th></th>\n",
              "      <th>count</th>\n",
              "    </tr>\n",
              "    <tr>\n",
              "      <th>lug_boot</th>\n",
              "      <th></th>\n",
              "    </tr>\n",
              "  </thead>\n",
              "  <tbody>\n",
              "    <tr>\n",
              "      <th>big</th>\n",
              "      <td>411</td>\n",
              "    </tr>\n",
              "    <tr>\n",
              "      <th>med</th>\n",
              "      <td>405</td>\n",
              "    </tr>\n",
              "    <tr>\n",
              "      <th>small</th>\n",
              "      <td>393</td>\n",
              "    </tr>\n",
              "  </tbody>\n",
              "</table>\n",
              "</div><br><label><b>dtype:</b> int64</label>"
            ]
          },
          "metadata": {},
          "execution_count": 13
        }
      ]
    },
    {
      "cell_type": "code",
      "source": [
        "train_data['safety'].value_counts()"
      ],
      "metadata": {
        "colab": {
          "base_uri": "https://localhost:8080/",
          "height": 209
        },
        "id": "PLLppGuR5UGk",
        "outputId": "923ca222-4e30-4f9d-99aa-5f234a81f3d2"
      },
      "execution_count": 14,
      "outputs": [
        {
          "output_type": "execute_result",
          "data": {
            "text/plain": [
              "safety\n",
              "med     406\n",
              "low     402\n",
              "high    401\n",
              "Name: count, dtype: int64"
            ],
            "text/html": [
              "<div>\n",
              "<style scoped>\n",
              "    .dataframe tbody tr th:only-of-type {\n",
              "        vertical-align: middle;\n",
              "    }\n",
              "\n",
              "    .dataframe tbody tr th {\n",
              "        vertical-align: top;\n",
              "    }\n",
              "\n",
              "    .dataframe thead th {\n",
              "        text-align: right;\n",
              "    }\n",
              "</style>\n",
              "<table border=\"1\" class=\"dataframe\">\n",
              "  <thead>\n",
              "    <tr style=\"text-align: right;\">\n",
              "      <th></th>\n",
              "      <th>count</th>\n",
              "    </tr>\n",
              "    <tr>\n",
              "      <th>safety</th>\n",
              "      <th></th>\n",
              "    </tr>\n",
              "  </thead>\n",
              "  <tbody>\n",
              "    <tr>\n",
              "      <th>med</th>\n",
              "      <td>406</td>\n",
              "    </tr>\n",
              "    <tr>\n",
              "      <th>low</th>\n",
              "      <td>402</td>\n",
              "    </tr>\n",
              "    <tr>\n",
              "      <th>high</th>\n",
              "      <td>401</td>\n",
              "    </tr>\n",
              "  </tbody>\n",
              "</table>\n",
              "</div><br><label><b>dtype:</b> int64</label>"
            ]
          },
          "metadata": {},
          "execution_count": 14
        }
      ]
    },
    {
      "cell_type": "code",
      "source": [
        "train_data['binaryClass'].value_counts()"
      ],
      "metadata": {
        "colab": {
          "base_uri": "https://localhost:8080/",
          "height": 178
        },
        "id": "YZ5C4-_bJvtg",
        "outputId": "b9a3841b-4403-4252-9f9f-19fd426950a5"
      },
      "execution_count": 60,
      "outputs": [
        {
          "output_type": "execute_result",
          "data": {
            "text/plain": [
              "binaryClass\n",
              "P    849\n",
              "N    360\n",
              "Name: count, dtype: int64"
            ],
            "text/html": [
              "<div>\n",
              "<style scoped>\n",
              "    .dataframe tbody tr th:only-of-type {\n",
              "        vertical-align: middle;\n",
              "    }\n",
              "\n",
              "    .dataframe tbody tr th {\n",
              "        vertical-align: top;\n",
              "    }\n",
              "\n",
              "    .dataframe thead th {\n",
              "        text-align: right;\n",
              "    }\n",
              "</style>\n",
              "<table border=\"1\" class=\"dataframe\">\n",
              "  <thead>\n",
              "    <tr style=\"text-align: right;\">\n",
              "      <th></th>\n",
              "      <th>count</th>\n",
              "    </tr>\n",
              "    <tr>\n",
              "      <th>binaryClass</th>\n",
              "      <th></th>\n",
              "    </tr>\n",
              "  </thead>\n",
              "  <tbody>\n",
              "    <tr>\n",
              "      <th>P</th>\n",
              "      <td>849</td>\n",
              "    </tr>\n",
              "    <tr>\n",
              "      <th>N</th>\n",
              "      <td>360</td>\n",
              "    </tr>\n",
              "  </tbody>\n",
              "</table>\n",
              "</div><br><label><b>dtype:</b> int64</label>"
            ]
          },
          "metadata": {},
          "execution_count": 60
        }
      ]
    },
    {
      "cell_type": "code",
      "source": [
        "plt.figure(figsize=(5,5))\n",
        "sns.countplot(data=train_data,x=\"buying\")"
      ],
      "metadata": {
        "colab": {
          "base_uri": "https://localhost:8080/",
          "height": 483
        },
        "id": "QJIhjuS85Wzx",
        "outputId": "c7acd125-3bb7-4a85-dcb0-78ae711cc887"
      },
      "execution_count": 51,
      "outputs": [
        {
          "output_type": "execute_result",
          "data": {
            "text/plain": [
              "<Axes: xlabel='buying', ylabel='count'>"
            ]
          },
          "metadata": {},
          "execution_count": 51
        },
        {
          "output_type": "display_data",
          "data": {
            "text/plain": [
              "<Figure size 500x500 with 1 Axes>"
            ],
            "image/png": "[encoded data removed]"
          },
          "metadata": {}
        }
      ]
    },
    {
      "cell_type": "code",
      "source": [
        "plt.figure(figsize=(5,5))\n",
        "sns.countplot(data=train_data,x=\"maint\")"
      ],
      "metadata": {
        "colab": {
          "base_uri": "https://localhost:8080/",
          "height": 483
        },
        "id": "uk7e0z6N5ZrJ",
        "outputId": "24a9c8ba-fe15-4de2-dcc7-ccc4f0bf1030"
      },
      "execution_count": 52,
      "outputs": [
        {
          "output_type": "execute_result",
          "data": {
            "text/plain": [
              "<Axes: xlabel='maint', ylabel='count'>"
            ]
          },
          "metadata": {},
          "execution_count": 52
        },
        {
          "output_type": "display_data",
          "data": {
            "text/plain": [
              "<Figure size 500x500 with 1 Axes>"
            ],
            "image/png": "[encoded data removed]"
          },
          "metadata": {}
        }
      ]
    },
    {
      "cell_type": "code",
      "source": [
        "plt.figure(figsize=(5,5))\n",
        "sns.countplot(data=train_data,x=\"doors\")"
      ],
      "metadata": {
        "colab": {
          "base_uri": "https://localhost:8080/",
          "height": 483
        },
        "id": "wNw3gRhC5dn1",
        "outputId": "ae430cd9-74a8-4958-d631-ac5529799f4d"
      },
      "execution_count": 53,
      "outputs": [
        {
          "output_type": "execute_result",
          "data": {
            "text/plain": [
              "<Axes: xlabel='doors', ylabel='count'>"
            ]
          },
          "metadata": {},
          "execution_count": 53
        },
        {
          "output_type": "display_data",
          "data": {
            "text/plain": [
              "<Figure size 500x500 with 1 Axes>"
            ],
            "image/png": "[encoded data removed]"
          },
          "metadata": {}
        }
      ]
    },
    {
      "cell_type": "code",
      "source": [
        "plt.figure(figsize=(5,5))\n",
        "sns.countplot(data=train_data,x=\"persons\")"
      ],
      "metadata": {
        "colab": {
          "base_uri": "https://localhost:8080/",
          "height": 483
        },
        "id": "jt7bblY85gZI",
        "outputId": "813d4bac-2bcd-4fa5-d446-8e701e09bca7"
      },
      "execution_count": 54,
      "outputs": [
        {
          "output_type": "execute_result",
          "data": {
            "text/plain": [
              "<Axes: xlabel='persons', ylabel='count'>"
            ]
          },
          "metadata": {},
          "execution_count": 54
        },
        {
          "output_type": "display_data",
          "data": {
            "text/plain": [
              "<Figure size 500x500 with 1 Axes>"
            ],
            "image/png": "[encoded data removed]"
          },
          "metadata": {}
        }
      ]
    },
    {
      "cell_type": "code",
      "source": [
        "plt.figure(figsize=(5,5))\n",
        "sns.countplot(data=train_data,x=\"lug_boot\")"
      ],
      "metadata": {
        "colab": {
          "base_uri": "https://localhost:8080/",
          "height": 483
        },
        "id": "TpX51Uyp5i1A",
        "outputId": "9ce62e1d-d16d-46b8-941d-f1a60e4be2ba"
      },
      "execution_count": 50,
      "outputs": [
        {
          "output_type": "execute_result",
          "data": {
            "text/plain": [
              "<Axes: xlabel='lug_boot', ylabel='count'>"
            ]
          },
          "metadata": {},
          "execution_count": 50
        },
        {
          "output_type": "display_data",
          "data": {
            "text/plain": [
              "<Figure size 500x500 with 1 Axes>"
            ],
            "image/png": "[encoded data removed]"
          },
          "metadata": {}
        }
      ]
    },
    {
      "cell_type": "code",
      "source": [
        "plt.figure(figsize=(5,5))\n",
        "sns.countplot(data=train_data,x=\"safety\")"
      ],
      "metadata": {
        "colab": {
          "base_uri": "https://localhost:8080/",
          "height": 483
        },
        "id": "DtpP9Mmh5lFS",
        "outputId": "97bd82d7-83d7-48a7-db0a-6e7852ed7a89"
      },
      "execution_count": 49,
      "outputs": [
        {
          "output_type": "execute_result",
          "data": {
            "text/plain": [
              "<Axes: xlabel='safety', ylabel='count'>"
            ]
          },
          "metadata": {},
          "execution_count": 49
        },
        {
          "output_type": "display_data",
          "data": {
            "text/plain": [
              "<Figure size 500x500 with 1 Axes>"
            ],
            "image/png": "[encoded data removed]"
          },
          "metadata": {}
        }
      ]
    },
    {
      "cell_type": "code",
      "source": [
        "plt.figure(figsize=(5,5))\n",
        "sns.countplot(data=train_data,x='buying',hue='binaryClass')"
      ],
      "metadata": {
        "colab": {
          "base_uri": "https://localhost:8080/",
          "height": 483
        },
        "id": "jnKAsjQU5oE4",
        "outputId": "941cd270-96f8-4c0c-e79d-e237a25e6d80"
      },
      "execution_count": 48,
      "outputs": [
        {
          "output_type": "execute_result",
          "data": {
            "text/plain": [
              "<Axes: xlabel='buying', ylabel='count'>"
            ]
          },
          "metadata": {},
          "execution_count": 48
        },
        {
          "output_type": "display_data",
          "data": {
            "text/plain": [
              "<Figure size 500x500 with 1 Axes>"
            ],
            "image/png": "[encoded data removed]"
          },
          "metadata": {}
        }
      ]
    },
    {
      "cell_type": "code",
      "source": [
        "plt.figure(figsize=(5,5))\n",
        "sns.countplot(data=train_data,x='maint',hue='binaryClass')"
      ],
      "metadata": {
        "colab": {
          "base_uri": "https://localhost:8080/",
          "height": 483
        },
        "id": "C4u1ooRY5rd6",
        "outputId": "4651f814-c9fa-4c9f-fd07-4d6df0ccd555"
      },
      "execution_count": 55,
      "outputs": [
        {
          "output_type": "execute_result",
          "data": {
            "text/plain": [
              "<Axes: xlabel='maint', ylabel='count'>"
            ]
          },
          "metadata": {},
          "execution_count": 55
        },
        {
          "output_type": "display_data",
          "data": {
            "text/plain": [
              "<Figure size 500x500 with 1 Axes>"
            ],
            "image/png": "[encoded data removed]"
          },
          "metadata": {}
        }
      ]
    },
    {
      "cell_type": "code",
      "source": [
        "plt.figure(figsize=(5,5))\n",
        "sns.countplot(data=train_data,x='doors',hue='binaryClass')"
      ],
      "metadata": {
        "colab": {
          "base_uri": "https://localhost:8080/",
          "height": 483
        },
        "id": "bEK0ct1B5uIE",
        "outputId": "e27f47c5-7d95-4d6a-bf97-599fb8348dd9"
      },
      "execution_count": 56,
      "outputs": [
        {
          "output_type": "execute_result",
          "data": {
            "text/plain": [
              "<Axes: xlabel='doors', ylabel='count'>"
            ]
          },
          "metadata": {},
          "execution_count": 56
        },
        {
          "output_type": "display_data",
          "data": {
            "text/plain": [
              "<Figure size 500x500 with 1 Axes>"
            ],
            "image/png": "[encoded data removed]"
          },
          "metadata": {}
        }
      ]
    },
    {
      "cell_type": "code",
      "source": [
        "plt.figure(figsize=(5,5))\n",
        "sns.countplot(data=train_data,x='persons',hue='binaryClass')"
      ],
      "metadata": {
        "colab": {
          "base_uri": "https://localhost:8080/",
          "height": 483
        },
        "id": "AU7-0QQH5wro",
        "outputId": "93ce9d4f-6044-4b50-aa57-2e62da1c4afd"
      },
      "execution_count": 61,
      "outputs": [
        {
          "output_type": "execute_result",
          "data": {
            "text/plain": [
              "<Axes: xlabel='persons', ylabel='count'>"
            ]
          },
          "metadata": {},
          "execution_count": 61
        },
        {
          "output_type": "display_data",
          "data": {
            "text/plain": [
              "<Figure size 500x500 with 1 Axes>"
            ],
            "image/png": "[encoded data removed]"
          },
          "metadata": {}
        }
      ]
    },
    {
      "cell_type": "code",
      "source": [
        "plt.figure(figsize=(5,5))\n",
        "sns.countplot(data=train_data,x='lug_boot',hue='binaryClass')"
      ],
      "metadata": {
        "colab": {
          "base_uri": "https://localhost:8080/",
          "height": 483
        },
        "id": "84UN0VKR5zUh",
        "outputId": "5b4ee07d-4f72-436f-ac63-988e43ca122b"
      },
      "execution_count": 62,
      "outputs": [
        {
          "output_type": "execute_result",
          "data": {
            "text/plain": [
              "<Axes: xlabel='lug_boot', ylabel='count'>"
            ]
          },
          "metadata": {},
          "execution_count": 62
        },
        {
          "output_type": "display_data",
          "data": {
            "text/plain": [
              "<Figure size 500x500 with 1 Axes>"
            ],
            "image/png": "[encoded data removed]"
          },
          "metadata": {}
        }
      ]
    },
    {
      "cell_type": "code",
      "source": [
        "plt.figure(figsize=(5,5))\n",
        "sns.countplot(data=train_data,x='safety',hue='binaryClass')"
      ],
      "metadata": {
        "colab": {
          "base_uri": "https://localhost:8080/",
          "height": 483
        },
        "id": "e2wnsjvi510n",
        "outputId": "c0efd1e4-a216-4f09-97a8-d5447bf32b43"
      },
      "execution_count": 64,
      "outputs": [
        {
          "output_type": "execute_result",
          "data": {
            "text/plain": [
              "<Axes: xlabel='safety', ylabel='count'>"
            ]
          },
          "metadata": {},
          "execution_count": 64
        },
        {
          "output_type": "display_data",
          "data": {
            "text/plain": [
              "<Figure size 500x500 with 1 Axes>"
            ],
            "image/png": "[encoded data removed]"
          },
          "metadata": {}
        }
      ]
    },
    {
      "cell_type": "code",
      "source": [
        "plt.figure(figsize=(5,5))\n",
        "sns.countplot(data=train_data,x='binaryClass')"
      ],
      "metadata": {
        "colab": {
          "base_uri": "https://localhost:8080/",
          "height": 483
        },
        "id": "i3_Oz8WZKAu5",
        "outputId": "01d78a4f-416a-4e30-f4ae-344dacd0be69"
      },
      "execution_count": 65,
      "outputs": [
        {
          "output_type": "execute_result",
          "data": {
            "text/plain": [
              "<Axes: xlabel='binaryClass', ylabel='count'>"
            ]
          },
          "metadata": {},
          "execution_count": 65
        },
        {
          "output_type": "display_data",
          "data": {
            "text/plain": [
              "<Figure size 500x500 with 1 Axes>"
            ],
            "image/png": "[encoded data removed]"
          },
          "metadata": {}
        }
      ]
    },
    {
      "cell_type": "markdown",
      "source": [
        "# 4-Data Preprocessing"
      ],
      "metadata": {
        "id": "2S1SLw9Q54SG"
      }
    },
    {
      "cell_type": "markdown",
      "source": [
        "## Handling Ctegorical features"
      ],
      "metadata": {
        "id": "cY2kdfOHKRG2"
      }
    },
    {
      "cell_type": "code",
      "source": [
        "ct=train_data.drop('binaryClass',axis=1)\n",
        "cl=train_data[['binaryClass']]"
      ],
      "metadata": {
        "id": "haKDxj-M538t"
      },
      "execution_count": 27,
      "outputs": []
    },
    {
      "cell_type": "code",
      "source": [
        "from sklearn.preprocessing import OrdinalEncoder\n",
        "from sklearn.pipeline import Pipeline\n",
        "p=Pipeline([('ord_enc',OrdinalEncoder())])\n",
        "ct_prepared=p.fit_transform(ct)"
      ],
      "metadata": {
        "id": "Gg93UeIl5-oc"
      },
      "execution_count": 28,
      "outputs": []
    },
    {
      "cell_type": "code",
      "source": [
        "from sklearn.preprocessing import LabelEncoder\n",
        "label_enc=LabelEncoder()\n",
        "cl_prepared=label_enc.fit_transform(cl)"
      ],
      "metadata": {
        "colab": {
          "base_uri": "https://localhost:8080/"
        },
        "id": "VZUNYJsK6BSw",
        "outputId": "e60152f0-4d5f-422f-8902-36e595b8d34c"
      },
      "execution_count": 29,
      "outputs": [
        {
          "output_type": "stream",
          "name": "stderr",
          "text": [
            "/usr/local/lib/python3.10/dist-packages/sklearn/preprocessing/_label.py:114: DataConversionWarning: A column-vector y was passed when a 1d array was expected. Please change the shape of y to (n_samples, ), for example using ravel().\n",
            "  y = column_or_1d(y, warn=True)\n"
          ]
        }
      ]
    },
    {
      "cell_type": "code",
      "source": [
        "ct_prepared.shape,cl_prepared.shape"
      ],
      "metadata": {
        "colab": {
          "base_uri": "https://localhost:8080/"
        },
        "id": "d9Y-0x55HWG_",
        "outputId": "74ad02ef-d4cb-424a-ace5-add60348af7c"
      },
      "execution_count": 43,
      "outputs": [
        {
          "output_type": "execute_result",
          "data": {
            "text/plain": [
              "((1209, 6), (1209,))"
            ]
          },
          "metadata": {},
          "execution_count": 43
        }
      ]
    },
    {
      "cell_type": "markdown",
      "source": [
        "# 5-Training Decision Tree Classifier"
      ],
      "metadata": {
        "id": "nRCfrcTQ6EDo"
      }
    },
    {
      "cell_type": "code",
      "source": [
        "from sklearn.tree import DecisionTreeClassifier\n",
        "tc=DecisionTreeClassifier()\n",
        "tc.fit(ct_prepared,cl_prepared)\n",
        ""
      ],
      "metadata": {
        "colab": {
          "base_uri": "https://localhost:8080/",
          "height": 80
        },
        "id": "d_QU7xHr6GUa",
        "outputId": "c3257690-5159-4b17-9435-a2d2f0356d80"
      },
      "execution_count": 30,
      "outputs": [
        {
          "output_type": "execute_result",
          "data": {
            "text/plain": [
              "DecisionTreeClassifier()"
            ],
            "text/html": [
              "<style>#sk-container-id-1 {\n",
              "  /* Definition of color scheme common for light and dark mode */\n",
              "  --sklearn-color-text: black;\n",
              "  --sklearn-color-line: gray;\n",
              "  /* Definition of color scheme for unfitted estimators */\n",
              "  --sklearn-color-unfitted-level-0: #fff5e6;\n",
              "  --sklearn-color-unfitted-level-1: #f6e4d2;\n",
              "  --sklearn-color-unfitted-level-2: #ffe0b3;\n",
              "  --sklearn-color-unfitted-level-3: chocolate;\n",
              "  /* Definition of color scheme for fitted estimators */\n",
              "  --sklearn-color-fitted-level-0: #f0f8ff;\n",
              "  --sklearn-color-fitted-level-1: #d4ebff;\n",
              "  --sklearn-color-fitted-level-2: #b3dbfd;\n",
              "  --sklearn-color-fitted-level-3: cornflowerblue;\n",
              "\n",
              "  /* Specific color for light theme */\n",
              "  --sklearn-color-text-on-default-background: var(--sg-text-color, var(--theme-code-foreground, var(--jp-content-font-color1, black)));\n",
              "  --sklearn-color-background: var(--sg-background-color, var(--theme-background, var(--jp-layout-color0, white)));\n",
              "  --sklearn-color-border-box: var(--sg-text-color, var(--theme-code-foreground, var(--jp-content-font-color1, black)));\n",
              "  --sklearn-color-icon: #696969;\n",
              "\n",
              "  @media (prefers-color-scheme: dark) {\n",
              "    /* Redefinition of color scheme for dark theme */\n",
              "    --sklearn-color-text-on-default-background: var(--sg-text-color, var(--theme-code-foreground, var(--jp-content-font-color1, white)));\n",
              "    --sklearn-color-background: var(--sg-background-color, var(--theme-background, var(--jp-layout-color0, #111)));\n",
              "    --sklearn-color-border-box: var(--sg-text-color, var(--theme-code-foreground, var(--jp-content-font-color1, white)));\n",
              "    --sklearn-color-icon: #878787;\n",
              "  }\n",
              "}\n",
              "\n",
              "#sk-container-id-1 {\n",
              "  color: var(--sklearn-color-text);\n",
              "}\n",
              "\n",
              "#sk-container-id-1 pre {\n",
              "  padding: 0;\n",
              "}\n",
              "\n",
              "#sk-container-id-1 input.sk-hidden--visually {\n",
              "  border: 0;\n",
              "  clip: rect(1px 1px 1px 1px);\n",
              "  clip: rect(1px, 1px, 1px, 1px);\n",
              "  height: 1px;\n",
              "  margin: -1px;\n",
              "  overflow: hidden;\n",
              "  padding: 0;\n",
              "  position: absolute;\n",
              "  width: 1px;\n",
              "}\n",
              "\n",
              "#sk-container-id-1 div.sk-dashed-wrapped {\n",
              "  border: 1px dashed var(--sklearn-color-line);\n",
              "  margin: 0 0.4em 0.5em 0.4em;\n",
              "  box-sizing: border-box;\n",
              "  padding-bottom: 0.4em;\n",
              "  background-color: var(--sklearn-color-background);\n",
              "}\n",
              "\n",
              "#sk-container-id-1 div.sk-container {\n",
              "  /* jupyter's `normalize.less` sets `[hidden] { display: none; }`\n",
              "     but bootstrap.min.css set `[hidden] { display: none !important; }`\n",
              "     so we also need the `!important` here to be able to override the\n",
              "     default hidden behavior on the sphinx rendered scikit-learn.org.\n",
              "     See: https://github.com/scikit-learn/scikit-learn/issues/21755 */\n",
              "  display: inline-block !important;\n",
              "  position: relative;\n",
              "}\n",
              "\n",
              "#sk-container-id-1 div.sk-text-repr-fallback {\n",
              "  display: none;\n",
              "}\n",
              "\n",
              "div.sk-parallel-item,\n",
              "div.sk-serial,\n",
              "div.sk-item {\n",
              "  /* draw centered vertical line to link estimators */\n",
              "  background-image: linear-gradient(var(--sklearn-color-text-on-default-background), var(--sklearn-color-text-on-default-background));\n",
              "  background-size: 2px 100%;\n",
              "  background-repeat: no-repeat;\n",
              "  background-position: center center;\n",
              "}\n",
              "\n",
              "/* Parallel-specific style estimator block */\n",
              "\n",
              "#sk-container-id-1 div.sk-parallel-item::after {\n",
              "  content: \"\";\n",
              "  width: 100%;\n",
              "  border-bottom: 2px solid var(--sklearn-color-text-on-default-background);\n",
              "  flex-grow: 1;\n",
              "}\n",
              "\n",
              "#sk-container-id-1 div.sk-parallel {\n",
              "  display: flex;\n",
              "  align-items: stretch;\n",
              "  justify-content: center;\n",
              "  background-color: var(--sklearn-color-background);\n",
              "  position: relative;\n",
              "}\n",
              "\n",
              "#sk-container-id-1 div.sk-parallel-item {\n",
              "  display: flex;\n",
              "  flex-direction: column;\n",
              "}\n",
              "\n",
              "#sk-container-id-1 div.sk-parallel-item:first-child::after {\n",
              "  align-self: flex-end;\n",
              "  width: 50%;\n",
              "}\n",
              "\n",
              "#sk-container-id-1 div.sk-parallel-item:last-child::after {\n",
              "  align-self: flex-start;\n",
              "  width: 50%;\n",
              "}\n",
              "\n",
              "#sk-container-id-1 div.sk-parallel-item:only-child::after {\n",
              "  width: 0;\n",
              "}\n",
              "\n",
              "/* Serial-specific style estimator block */\n",
              "\n",
              "#sk-container-id-1 div.sk-serial {\n",
              "  display: flex;\n",
              "  flex-direction: column;\n",
              "  align-items: center;\n",
              "  background-color: var(--sklearn-color-background);\n",
              "  padding-right: 1em;\n",
              "  padding-left: 1em;\n",
              "}\n",
              "\n",
              "\n",
              "/* Toggleable style: style used for estimator/Pipeline/ColumnTransformer box that is\n",
              "clickable and can be expanded/collapsed.\n",
              "- Pipeline and ColumnTransformer use this feature and define the default style\n",
              "- Estimators will overwrite some part of the style using the `sk-estimator` class\n",
              "*/\n",
              "\n",
              "/* Pipeline and ColumnTransformer style (default) */\n",
              "\n",
              "#sk-container-id-1 div.sk-toggleable {\n",
              "  /* Default theme specific background. It is overwritten whether we have a\n",
              "  specific estimator or a Pipeline/ColumnTransformer */\n",
              "  background-color: var(--sklearn-color-background);\n",
              "}\n",
              "\n",
              "/* Toggleable label */\n",
              "#sk-container-id-1 label.sk-toggleable__label {\n",
              "  cursor: pointer;\n",
              "  display: block;\n",
              "  width: 100%;\n",
              "  margin-bottom: 0;\n",
              "  padding: 0.5em;\n",
              "  box-sizing: border-box;\n",
              "  text-align: center;\n",
              "}\n",
              "\n",
              "#sk-container-id-1 label.sk-toggleable__label-arrow:before {\n",
              "  /* Arrow on the left of the label */\n",
              "  content: \"▸\";\n",
              "  float: left;\n",
              "  margin-right: 0.25em;\n",
              "  color: var(--sklearn-color-icon);\n",
              "}\n",
              "\n",
              "#sk-container-id-1 label.sk-toggleable__label-arrow:hover:before {\n",
              "  color: var(--sklearn-color-text);\n",
              "}\n",
              "\n",
              "/* Toggleable content - dropdown */\n",
              "\n",
              "#sk-container-id-1 div.sk-toggleable__content {\n",
              "  max-height: 0;\n",
              "  max-width: 0;\n",
              "  overflow: hidden;\n",
              "  text-align: left;\n",
              "  /* unfitted */\n",
              "  background-color: var(--sklearn-color-unfitted-level-0);\n",
              "}\n",
              "\n",
              "#sk-container-id-1 div.sk-toggleable__content.fitted {\n",
              "  /* fitted */\n",
              "  background-color: var(--sklearn-color-fitted-level-0);\n",
              "}\n",
              "\n",
              "#sk-container-id-1 div.sk-toggleable__content pre {\n",
              "  margin: 0.2em;\n",
              "  border-radius: 0.25em;\n",
              "  color: var(--sklearn-color-text);\n",
              "  /* unfitted */\n",
              "  background-color: var(--sklearn-color-unfitted-level-0);\n",
              "}\n",
              "\n",
              "#sk-container-id-1 div.sk-toggleable__content.fitted pre {\n",
              "  /* unfitted */\n",
              "  background-color: var(--sklearn-color-fitted-level-0);\n",
              "}\n",
              "\n",
              "#sk-container-id-1 input.sk-toggleable__control:checked~div.sk-toggleable__content {\n",
              "  /* Expand drop-down */\n",
              "  max-height: 200px;\n",
              "  max-width: 100%;\n",
              "  overflow: auto;\n",
              "}\n",
              "\n",
              "#sk-container-id-1 input.sk-toggleable__control:checked~label.sk-toggleable__label-arrow:before {\n",
              "  content: \"▾\";\n",
              "}\n",
              "\n",
              "/* Pipeline/ColumnTransformer-specific style */\n",
              "\n",
              "#sk-container-id-1 div.sk-label input.sk-toggleable__control:checked~label.sk-toggleable__label {\n",
              "  color: var(--sklearn-color-text);\n",
              "  background-color: var(--sklearn-color-unfitted-level-2);\n",
              "}\n",
              "\n",
              "#sk-container-id-1 div.sk-label.fitted input.sk-toggleable__control:checked~label.sk-toggleable__label {\n",
              "  background-color: var(--sklearn-color-fitted-level-2);\n",
              "}\n",
              "\n",
              "/* Estimator-specific style */\n",
              "\n",
              "/* Colorize estimator box */\n",
              "#sk-container-id-1 div.sk-estimator input.sk-toggleable__control:checked~label.sk-toggleable__label {\n",
              "  /* unfitted */\n",
              "  background-color: var(--sklearn-color-unfitted-level-2);\n",
              "}\n",
              "\n",
              "#sk-container-id-1 div.sk-estimator.fitted input.sk-toggleable__control:checked~label.sk-toggleable__label {\n",
              "  /* fitted */\n",
              "  background-color: var(--sklearn-color-fitted-level-2);\n",
              "}\n",
              "\n",
              "#sk-container-id-1 div.sk-label label.sk-toggleable__label,\n",
              "#sk-container-id-1 div.sk-label label {\n",
              "  /* The background is the default theme color */\n",
              "  color: var(--sklearn-color-text-on-default-background);\n",
              "}\n",
              "\n",
              "/* On hover, darken the color of the background */\n",
              "#sk-container-id-1 div.sk-label:hover label.sk-toggleable__label {\n",
              "  color: var(--sklearn-color-text);\n",
              "  background-color: var(--sklearn-color-unfitted-level-2);\n",
              "}\n",
              "\n",
              "/* Label box, darken color on hover, fitted */\n",
              "#sk-container-id-1 div.sk-label.fitted:hover label.sk-toggleable__label.fitted {\n",
              "  color: var(--sklearn-color-text);\n",
              "  background-color: var(--sklearn-color-fitted-level-2);\n",
              "}\n",
              "\n",
              "/* Estimator label */\n",
              "\n",
              "#sk-container-id-1 div.sk-label label {\n",
              "  font-family: monospace;\n",
              "  font-weight: bold;\n",
              "  display: inline-block;\n",
              "  line-height: 1.2em;\n",
              "}\n",
              "\n",
              "#sk-container-id-1 div.sk-label-container {\n",
              "  text-align: center;\n",
              "}\n",
              "\n",
              "/* Estimator-specific */\n",
              "#sk-container-id-1 div.sk-estimator {\n",
              "  font-family: monospace;\n",
              "  border: 1px dotted var(--sklearn-color-border-box);\n",
              "  border-radius: 0.25em;\n",
              "  box-sizing: border-box;\n",
              "  margin-bottom: 0.5em;\n",
              "  /* unfitted */\n",
              "  background-color: var(--sklearn-color-unfitted-level-0);\n",
              "}\n",
              "\n",
              "#sk-container-id-1 div.sk-estimator.fitted {\n",
              "  /* fitted */\n",
              "  background-color: var(--sklearn-color-fitted-level-0);\n",
              "}\n",
              "\n",
              "/* on hover */\n",
              "#sk-container-id-1 div.sk-estimator:hover {\n",
              "  /* unfitted */\n",
              "  background-color: var(--sklearn-color-unfitted-level-2);\n",
              "}\n",
              "\n",
              "#sk-container-id-1 div.sk-estimator.fitted:hover {\n",
              "  /* fitted */\n",
              "  background-color: var(--sklearn-color-fitted-level-2);\n",
              "}\n",
              "\n",
              "/* Specification for estimator info (e.g. \"i\" and \"?\") */\n",
              "\n",
              "/* Common style for \"i\" and \"?\" */\n",
              "\n",
              ".sk-estimator-doc-link,\n",
              "a:link.sk-estimator-doc-link,\n",
              "a:visited.sk-estimator-doc-link {\n",
              "  float: right;\n",
              "  font-size: smaller;\n",
              "  line-height: 1em;\n",
              "  font-family: monospace;\n",
              "  background-color: var(--sklearn-color-background);\n",
              "  border-radius: 1em;\n",
              "  height: 1em;\n",
              "  width: 1em;\n",
              "  text-decoration: none !important;\n",
              "  margin-left: 1ex;\n",
              "  /* unfitted */\n",
              "  border: var(--sklearn-color-unfitted-level-1) 1pt solid;\n",
              "  color: var(--sklearn-color-unfitted-level-1);\n",
              "}\n",
              "\n",
              ".sk-estimator-doc-link.fitted,\n",
              "a:link.sk-estimator-doc-link.fitted,\n",
              "a:visited.sk-estimator-doc-link.fitted {\n",
              "  /* fitted */\n",
              "  border: var(--sklearn-color-fitted-level-1) 1pt solid;\n",
              "  color: var(--sklearn-color-fitted-level-1);\n",
              "}\n",
              "\n",
              "/* On hover */\n",
              "div.sk-estimator:hover .sk-estimator-doc-link:hover,\n",
              ".sk-estimator-doc-link:hover,\n",
              "div.sk-label-container:hover .sk-estimator-doc-link:hover,\n",
              ".sk-estimator-doc-link:hover {\n",
              "  /* unfitted */\n",
              "  background-color: var(--sklearn-color-unfitted-level-3);\n",
              "  color: var(--sklearn-color-background);\n",
              "  text-decoration: none;\n",
              "}\n",
              "\n",
              "div.sk-estimator.fitted:hover .sk-estimator-doc-link.fitted:hover,\n",
              ".sk-estimator-doc-link.fitted:hover,\n",
              "div.sk-label-container:hover .sk-estimator-doc-link.fitted:hover,\n",
              ".sk-estimator-doc-link.fitted:hover {\n",
              "  /* fitted */\n",
              "  background-color: var(--sklearn-color-fitted-level-3);\n",
              "  color: var(--sklearn-color-background);\n",
              "  text-decoration: none;\n",
              "}\n",
              "\n",
              "/* Span, style for the box shown on hovering the info icon */\n",
              ".sk-estimator-doc-link span {\n",
              "  display: none;\n",
              "  z-index: 9999;\n",
              "  position: relative;\n",
              "  font-weight: normal;\n",
              "  right: .2ex;\n",
              "  padding: .5ex;\n",
              "  margin: .5ex;\n",
              "  width: min-content;\n",
              "  min-width: 20ex;\n",
              "  max-width: 50ex;\n",
              "  color: var(--sklearn-color-text);\n",
              "  box-shadow: 2pt 2pt 4pt #999;\n",
              "  /* unfitted */\n",
              "  background: var(--sklearn-color-unfitted-level-0);\n",
              "  border: .5pt solid var(--sklearn-color-unfitted-level-3);\n",
              "}\n",
              "\n",
              ".sk-estimator-doc-link.fitted span {\n",
              "  /* fitted */\n",
              "  background: var(--sklearn-color-fitted-level-0);\n",
              "  border: var(--sklearn-color-fitted-level-3);\n",
              "}\n",
              "\n",
              ".sk-estimator-doc-link:hover span {\n",
              "  display: block;\n",
              "}\n",
              "\n",
              "/* \"?\"-specific style due to the `<a>` HTML tag */\n",
              "\n",
              "#sk-container-id-1 a.estimator_doc_link {\n",
              "  float: right;\n",
              "  font-size: 1rem;\n",
              "  line-height: 1em;\n",
              "  font-family: monospace;\n",
              "  background-color: var(--sklearn-color-background);\n",
              "  border-radius: 1rem;\n",
              "  height: 1rem;\n",
              "  width: 1rem;\n",
              "  text-decoration: none;\n",
              "  /* unfitted */\n",
              "  color: var(--sklearn-color-unfitted-level-1);\n",
              "  border: var(--sklearn-color-unfitted-level-1) 1pt solid;\n",
              "}\n",
              "\n",
              "#sk-container-id-1 a.estimator_doc_link.fitted {\n",
              "  /* fitted */\n",
              "  border: var(--sklearn-color-fitted-level-1) 1pt solid;\n",
              "  color: var(--sklearn-color-fitted-level-1);\n",
              "}\n",
              "\n",
              "/* On hover */\n",
              "#sk-container-id-1 a.estimator_doc_link:hover {\n",
              "  /* unfitted */\n",
              "  background-color: var(--sklearn-color-unfitted-level-3);\n",
              "  color: var(--sklearn-color-background);\n",
              "  text-decoration: none;\n",
              "}\n",
              "\n",
              "#sk-container-id-1 a.estimator_doc_link.fitted:hover {\n",
              "  /* fitted */\n",
              "  background-color: var(--sklearn-color-fitted-level-3);\n",
              "}\n",
              "</style><div id=\"sk-container-id-1\" class=\"sk-top-container\"><div class=\"sk-text-repr-fallback\"><pre>DecisionTreeClassifier()</pre><b>In a Jupyter environment, please rerun this cell to show the HTML representation or trust the notebook. <br />On GitHub, the HTML representation is unable to render, please try loading this page with nbviewer.org.</b></div><div class=\"sk-container\" hidden><div class=\"sk-item\"><div class=\"sk-estimator fitted sk-toggleable\"><input class=\"sk-toggleable__control sk-hidden--visually\" id=\"sk-estimator-id-1\" type=\"checkbox\" checked><label for=\"sk-estimator-id-1\" class=\"sk-toggleable__label fitted sk-toggleable__label-arrow fitted\">&nbsp;&nbsp;DecisionTreeClassifier<a class=\"sk-estimator-doc-link fitted\" rel=\"noreferrer\" target=\"_blank\" href=\"https://scikit-learn.org/1.5/modules/generated/sklearn.tree.DecisionTreeClassifier.html\">?<span>Documentation for DecisionTreeClassifier</span></a><span class=\"sk-estimator-doc-link fitted\">i<span>Fitted</span></span></label><div class=\"sk-toggleable__content fitted\"><pre>DecisionTreeClassifier()</pre></div> </div></div></div></div>"
            ]
          },
          "metadata": {},
          "execution_count": 30
        }
      ]
    },
    {
      "cell_type": "markdown",
      "source": [
        "Lets train same model on th scaled data"
      ],
      "metadata": {
        "id": "FpcekD2_GN-q"
      }
    },
    {
      "cell_type": "code",
      "source": [
        "from sklearn.tree import export_text, plot_tree\n",
        "tc=DecisionTreeClassifier()\n",
        "tc.fit(ct_prepared,cl_prepared)\n",
        "text_representation=export_text(tc,feature_names=list(ct.columns))\n",
        "print(text_representation)\n",
        "plot_tree(tc,feature_names=ct.columns,class_names=['N','P']);"
      ],
      "metadata": {
        "colab": {
          "base_uri": "https://localhost:8080/",
          "height": 1000
        },
        "id": "N0NFczhkAGiK",
        "outputId": "de1b460a-0994-417d-e9d8-2f190fe895ba"
      },
      "execution_count": 39,
      "outputs": [
        {
          "output_type": "stream",
          "name": "stdout",
          "text": [
            "|--- persons <= 0.50\n",
            "|   |--- class: 1\n",
            "|--- persons >  0.50\n",
            "|   |--- safety <= 0.50\n",
            "|   |   |--- buying <= 2.50\n",
            "|   |   |   |--- maint <= 2.50\n",
            "|   |   |   |   |--- doors <= 0.50\n",
            "|   |   |   |   |   |--- lug_boot <= 1.50\n",
            "|   |   |   |   |   |   |--- class: 0\n",
            "|   |   |   |   |   |--- lug_boot >  1.50\n",
            "|   |   |   |   |   |   |--- persons <= 1.50\n",
            "|   |   |   |   |   |   |   |--- class: 0\n",
            "|   |   |   |   |   |   |--- persons >  1.50\n",
            "|   |   |   |   |   |   |   |--- class: 1\n",
            "|   |   |   |   |--- doors >  0.50\n",
            "|   |   |   |   |   |--- class: 0\n",
            "|   |   |   |--- maint >  2.50\n",
            "|   |   |   |   |--- buying <= 0.50\n",
            "|   |   |   |   |   |--- class: 1\n",
            "|   |   |   |   |--- buying >  0.50\n",
            "|   |   |   |   |   |--- doors <= 0.50\n",
            "|   |   |   |   |   |   |--- lug_boot <= 1.50\n",
            "|   |   |   |   |   |   |   |--- class: 0\n",
            "|   |   |   |   |   |   |--- lug_boot >  1.50\n",
            "|   |   |   |   |   |   |   |--- persons <= 1.50\n",
            "|   |   |   |   |   |   |   |   |--- class: 0\n",
            "|   |   |   |   |   |   |   |--- persons >  1.50\n",
            "|   |   |   |   |   |   |   |   |--- class: 1\n",
            "|   |   |   |   |   |--- doors >  0.50\n",
            "|   |   |   |   |   |   |--- class: 0\n",
            "|   |   |--- buying >  2.50\n",
            "|   |   |   |--- maint <= 0.50\n",
            "|   |   |   |   |--- class: 1\n",
            "|   |   |   |--- maint >  0.50\n",
            "|   |   |   |   |--- maint <= 2.50\n",
            "|   |   |   |   |   |--- lug_boot <= 1.50\n",
            "|   |   |   |   |   |   |--- class: 0\n",
            "|   |   |   |   |   |--- lug_boot >  1.50\n",
            "|   |   |   |   |   |   |--- doors <= 0.50\n",
            "|   |   |   |   |   |   |   |--- persons <= 1.50\n",
            "|   |   |   |   |   |   |   |   |--- class: 0\n",
            "|   |   |   |   |   |   |   |--- persons >  1.50\n",
            "|   |   |   |   |   |   |   |   |--- class: 1\n",
            "|   |   |   |   |   |   |--- doors >  0.50\n",
            "|   |   |   |   |   |   |   |--- class: 0\n",
            "|   |   |   |   |--- maint >  2.50\n",
            "|   |   |   |   |   |--- class: 1\n",
            "|   |--- safety >  0.50\n",
            "|   |   |--- safety <= 1.50\n",
            "|   |   |   |--- class: 1\n",
            "|   |   |--- safety >  1.50\n",
            "|   |   |   |--- lug_boot <= 1.50\n",
            "|   |   |   |   |--- maint <= 2.50\n",
            "|   |   |   |   |   |--- buying <= 2.50\n",
            "|   |   |   |   |   |   |--- doors <= 1.50\n",
            "|   |   |   |   |   |   |   |--- lug_boot <= 0.50\n",
            "|   |   |   |   |   |   |   |   |--- class: 0\n",
            "|   |   |   |   |   |   |   |--- lug_boot >  0.50\n",
            "|   |   |   |   |   |   |   |   |--- buying <= 0.50\n",
            "|   |   |   |   |   |   |   |   |   |--- persons <= 1.50\n",
            "|   |   |   |   |   |   |   |   |   |   |--- class: 1\n",
            "|   |   |   |   |   |   |   |   |   |--- persons >  1.50\n",
            "|   |   |   |   |   |   |   |   |   |   |--- doors <= 0.50\n",
            "|   |   |   |   |   |   |   |   |   |   |   |--- class: 1\n",
            "|   |   |   |   |   |   |   |   |   |   |--- doors >  0.50\n",
            "|   |   |   |   |   |   |   |   |   |   |   |--- class: 0\n",
            "|   |   |   |   |   |   |   |   |--- buying >  0.50\n",
            "|   |   |   |   |   |   |   |   |   |--- maint <= 0.50\n",
            "|   |   |   |   |   |   |   |   |   |   |--- buying <= 1.50\n",
            "|   |   |   |   |   |   |   |   |   |   |   |--- class: 0\n",
            "|   |   |   |   |   |   |   |   |   |   |--- buying >  1.50\n",
            "|   |   |   |   |   |   |   |   |   |   |   |--- truncated branch of depth 2\n",
            "|   |   |   |   |   |   |   |   |   |--- maint >  0.50\n",
            "|   |   |   |   |   |   |   |   |   |   |--- class: 0\n",
            "|   |   |   |   |   |   |--- doors >  1.50\n",
            "|   |   |   |   |   |   |   |--- class: 0\n",
            "|   |   |   |   |   |--- buying >  2.50\n",
            "|   |   |   |   |   |   |--- maint <= 0.50\n",
            "|   |   |   |   |   |   |   |--- class: 1\n",
            "|   |   |   |   |   |   |--- maint >  0.50\n",
            "|   |   |   |   |   |   |   |--- lug_boot <= 0.50\n",
            "|   |   |   |   |   |   |   |   |--- class: 0\n",
            "|   |   |   |   |   |   |   |--- lug_boot >  0.50\n",
            "|   |   |   |   |   |   |   |   |--- doors <= 1.50\n",
            "|   |   |   |   |   |   |   |   |   |--- doors <= 0.50\n",
            "|   |   |   |   |   |   |   |   |   |   |--- class: 1\n",
            "|   |   |   |   |   |   |   |   |   |--- doors >  0.50\n",
            "|   |   |   |   |   |   |   |   |   |   |--- persons <= 1.50\n",
            "|   |   |   |   |   |   |   |   |   |   |   |--- class: 1\n",
            "|   |   |   |   |   |   |   |   |   |   |--- persons >  1.50\n",
            "|   |   |   |   |   |   |   |   |   |   |   |--- class: 0\n",
            "|   |   |   |   |   |   |   |   |--- doors >  1.50\n",
            "|   |   |   |   |   |   |   |   |   |--- class: 0\n",
            "|   |   |   |   |--- maint >  2.50\n",
            "|   |   |   |   |   |--- buying <= 0.50\n",
            "|   |   |   |   |   |   |--- class: 1\n",
            "|   |   |   |   |   |--- buying >  0.50\n",
            "|   |   |   |   |   |   |--- buying <= 2.50\n",
            "|   |   |   |   |   |   |   |--- doors <= 1.50\n",
            "|   |   |   |   |   |   |   |   |--- lug_boot <= 0.50\n",
            "|   |   |   |   |   |   |   |   |   |--- class: 0\n",
            "|   |   |   |   |   |   |   |   |--- lug_boot >  0.50\n",
            "|   |   |   |   |   |   |   |   |   |--- class: 1\n",
            "|   |   |   |   |   |   |   |--- doors >  1.50\n",
            "|   |   |   |   |   |   |   |   |--- class: 0\n",
            "|   |   |   |   |   |   |--- buying >  2.50\n",
            "|   |   |   |   |   |   |   |--- class: 1\n",
            "|   |   |   |--- lug_boot >  1.50\n",
            "|   |   |   |   |--- buying <= 0.50\n",
            "|   |   |   |   |   |--- class: 1\n",
            "|   |   |   |   |--- buying >  0.50\n",
            "|   |   |   |   |   |--- buying <= 2.50\n",
            "|   |   |   |   |   |   |--- maint <= 2.50\n",
            "|   |   |   |   |   |   |   |--- maint <= 0.50\n",
            "|   |   |   |   |   |   |   |   |--- buying <= 1.50\n",
            "|   |   |   |   |   |   |   |   |   |--- doors <= 0.50\n",
            "|   |   |   |   |   |   |   |   |   |   |--- class: 1\n",
            "|   |   |   |   |   |   |   |   |   |--- doors >  0.50\n",
            "|   |   |   |   |   |   |   |   |   |   |--- class: 0\n",
            "|   |   |   |   |   |   |   |   |--- buying >  1.50\n",
            "|   |   |   |   |   |   |   |   |   |--- class: 1\n",
            "|   |   |   |   |   |   |   |--- maint >  0.50\n",
            "|   |   |   |   |   |   |   |   |--- doors <= 0.50\n",
            "|   |   |   |   |   |   |   |   |   |--- persons <= 1.50\n",
            "|   |   |   |   |   |   |   |   |   |   |--- class: 0\n",
            "|   |   |   |   |   |   |   |   |   |--- persons >  1.50\n",
            "|   |   |   |   |   |   |   |   |   |   |--- class: 1\n",
            "|   |   |   |   |   |   |   |   |--- doors >  0.50\n",
            "|   |   |   |   |   |   |   |   |   |--- class: 0\n",
            "|   |   |   |   |   |   |--- maint >  2.50\n",
            "|   |   |   |   |   |   |   |--- class: 1\n",
            "|   |   |   |   |   |--- buying >  2.50\n",
            "|   |   |   |   |   |   |--- class: 1\n",
            "\n"
          ]
        },
        {
          "output_type": "display_data",
          "data": {
            "text/plain": [
              "<Figure size 640x480 with 1 Axes>"
            ],
            "image/png": "[encoded data removed]"
          },
          "metadata": {}
        }
      ]
    },
    {
      "cell_type": "code",
      "source": [
        "from sklearn.metrics import confusion_matrix,classification_report,accuracy_score\n",
        "pred =tc.predict(ct_prepared)\n",
        "cm = confusion_matrix(cl_prepared,pred)\n",
        "acc= accuracy_score(cl_prepared,pred)\n",
        "print(cm)\n",
        "print(acc)\n",
        "\n",
        "report = classification_report(cl_prepared,pred)\n",
        "print(report)\n",
        ""
      ],
      "metadata": {
        "colab": {
          "base_uri": "https://localhost:8080/"
        },
        "id": "vX9Lo7Rt6Rv8",
        "outputId": "aed0a993-59a2-4e52-f8de-f7c4ac8e9035"
      },
      "execution_count": 32,
      "outputs": [
        {
          "output_type": "stream",
          "name": "stdout",
          "text": [
            "[[360   0]\n",
            " [  0 849]]\n",
            "1.0\n",
            "              precision    recall  f1-score   support\n",
            "\n",
            "           0       1.00      1.00      1.00       360\n",
            "           1       1.00      1.00      1.00       849\n",
            "\n",
            "    accuracy                           1.00      1209\n",
            "   macro avg       1.00      1.00      1.00      1209\n",
            "weighted avg       1.00      1.00      1.00      1209\n",
            "\n"
          ]
        }
      ]
    },
    {
      "cell_type": "markdown",
      "source": [],
      "metadata": {
        "id": "1FsDh646HNVB"
      }
    },
    {
      "cell_type": "markdown",
      "source": [
        "# 6-Evaluating Decision Trees"
      ],
      "metadata": {
        "id": "UJ50vCIOHNkX"
      }
    },
    {
      "cell_type": "code",
      "source": [
        "from sklearn.metrics import accuracy_score , classification_report, confusion_matrix\n",
        "preds = tc.predict(ct_prepared)\n",
        "print(f\"Accuracy:{accuracy_score(cl_prepared,preds)}\")\n",
        "print(f\"ClassReport:{classification_report(cl_prepared,preds)}\")\n",
        "print(f\"Confusion Matrix:{confusion_matrix(cl_prepared,preds)}\")"
      ],
      "metadata": {
        "colab": {
          "base_uri": "https://localhost:8080/"
        },
        "id": "g2OTBZQrHRB6",
        "outputId": "e0cceb7c-57a6-4592-9628-4dbd5c34368a"
      },
      "execution_count": 42,
      "outputs": [
        {
          "output_type": "stream",
          "name": "stdout",
          "text": [
            "Accuracy:1.0\n",
            "ClassReport:              precision    recall  f1-score   support\n",
            "\n",
            "           0       1.00      1.00      1.00       360\n",
            "           1       1.00      1.00      1.00       849\n",
            "\n",
            "    accuracy                           1.00      1209\n",
            "   macro avg       1.00      1.00      1.00      1209\n",
            "weighted avg       1.00      1.00      1.00      1209\n",
            "\n",
            "Confusion Matrix:[[360   0]\n",
            " [  0 849]]\n"
          ]
        }
      ]
    }
  ]
}