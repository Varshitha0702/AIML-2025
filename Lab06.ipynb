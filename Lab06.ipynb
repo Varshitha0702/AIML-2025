{
  "nbformat": 4,
  "nbformat_minor": 0,
  "metadata": {
    "colab": {
      "provenance": [],
      "mount_file_id": "1ewaU7kOs9cXjuQuDH7SgPpvq85OIoyUc",
      "authorship_tag": "ABX9TyMjlsBOWiUZw/Qv09uEF2iq",
      "include_colab_link": true
    },
    "kernelspec": {
      "name": "python3",
      "display_name": "Python 3"
    },
    "language_info": {
      "name": "python"
    }
  },
  "cells": [
    {
      "cell_type": "markdown",
      "metadata": {
        "id": "view-in-github",
        "colab_type": "text"
      },
      "source": [
        "<a href=\"https://colab.research.google.com/github/Varshitha0702/AIML-2025/blob/main/Lab06.ipynb\" target=\"_parent\"><img src=\"https://colab.research.google.com/assets/colab-badge.svg\" alt=\"Open In Colab\"/></a>"
      ]
    },
    {
      "cell_type": "markdown",
      "source": [
        "# 1 Implement the K Nearest Neighbor Classification using Classi-fied Manufacturing Dataset"
      ],
      "metadata": {
        "id": "5Iw6QEhckkCu"
      }
    },
    {
      "cell_type": "markdown",
      "source": [
        "## Part 1 - Import the required Python, Pandas, Matplotlib, Seaborn packages."
      ],
      "metadata": {
        "id": "Ll2052Lmk9C0"
      }
    },
    {
      "cell_type": "code",
      "source": [
        "import pandas as pd\n",
        "import matplotlib.pyplot as plt\n",
        "import seaborn as sns\n",
        "from sklearn.neighbors import KNeighborsClassifier\n",
        "from sklearn.model_selection import train_test_split\n",
        "\n",
        "from sklearn.preprocessing import StandardScaler\n",
        "from sklearn.metrics import confusion_matrix, classification_report"
      ],
      "metadata": {
        "id": "3GUt8CIVmFZd"
      },
      "execution_count": 8,
      "outputs": []
    },
    {
      "cell_type": "code",
      "source": [
        "data = pd.read_csv('/phpB0xrNj.csv')"
      ],
      "metadata": {
        "id": "HglAZdEQmPND"
      },
      "execution_count": 11,
      "outputs": []
    },
    {
      "cell_type": "code",
      "source": [
        "print(data.dtypes)"
      ],
      "metadata": {
        "colab": {
          "base_uri": "https://localhost:8080/"
        },
        "id": "Iv0mnRMbnafc",
        "outputId": "db82cb1e-3ba1-48ed-c3b1-03f77a169dd9"
      },
      "execution_count": 12,
      "outputs": [
        {
          "output_type": "stream",
          "name": "stdout",
          "text": [
            "f1       float64\n",
            "f2       float64\n",
            "f3       float64\n",
            "f4       float64\n",
            "f5       float64\n",
            "          ...   \n",
            "f614     float64\n",
            "f615     float64\n",
            "f616     float64\n",
            "f617     float64\n",
            "class     object\n",
            "Length: 618, dtype: object\n"
          ]
        }
      ]
    },
    {
      "cell_type": "code",
      "source": [
        "print(data.describe())"
      ],
      "metadata": {
        "colab": {
          "base_uri": "https://localhost:8080/"
        },
        "id": "cmTKk38aneDS",
        "outputId": "45a4ac74-a368-48e2-8e5d-0d98f8367442"
      },
      "execution_count": 13,
      "outputs": [
        {
          "output_type": "stream",
          "name": "stdout",
          "text": [
            "                f1           f2           f3           f4           f5  \\\n",
            "count  7797.000000  7797.000000  7797.000000  7797.000000  7797.000000   \n",
            "mean     -0.385396     0.141103     0.347384     0.450659     0.324283   \n",
            "std       0.236721     0.320090     0.326658     0.308301     0.461491   \n",
            "min      -1.000000    -0.892600    -0.975200    -0.968000    -0.996600   \n",
            "25%      -0.546800    -0.099400     0.105400     0.247800    -0.024800   \n",
            "50%      -0.414000     0.106400     0.333400     0.453200     0.415800   \n",
            "75%      -0.241000     0.354600     0.583400     0.668600     0.692400   \n",
            "max       1.000000     1.000000     1.000000     1.000000     1.000000   \n",
            "\n",
            "                f6           f7           f8           f9          f10  ...  \\\n",
            "count  7797.000000  7797.000000  7797.000000  7797.000000  7797.000000  ...   \n",
            "mean      0.163589     0.023852    -0.081577    -0.149191    -0.191763  ...   \n",
            "std       0.569970     0.559704     0.535142     0.528714     0.515343  ...   \n",
            "min      -1.000000    -1.000000    -1.000000    -1.000000    -1.000000  ...   \n",
            "25%      -0.359600    -0.461600    -0.526800    -0.577400    -0.601200  ...   \n",
            "50%       0.204200    -0.010800    -0.154400    -0.233200    -0.261000  ...   \n",
            "75%       0.686200     0.492400     0.304400     0.190200     0.120000  ...   \n",
            "max       1.000000     1.000000     1.000000     1.000000     1.000000  ...   \n",
            "\n",
            "              f608         f609         f610         f611         f612  \\\n",
            "count  7797.000000  7797.000000  7797.000000  7797.000000  7797.000000   \n",
            "mean      0.370768     0.341730     0.311678     0.318904     0.334451   \n",
            "std       0.335582     0.330835     0.328813     0.333747     0.334954   \n",
            "min      -0.609400    -0.803400    -0.775200    -0.830200    -0.711800   \n",
            "25%       0.130400     0.098000     0.071400     0.073600     0.088600   \n",
            "50%       0.366200     0.337400     0.294200     0.295000     0.315800   \n",
            "75%       0.622600     0.588800     0.548800     0.565800     0.581600   \n",
            "max       1.000000     1.000000     1.000000     1.000000     1.000000   \n",
            "\n",
            "              f613         f614         f615         f616         f617  \n",
            "count  7797.000000  7797.000000  7797.000000  7797.000000  7797.000000  \n",
            "mean      0.299238     0.224122     0.186668     0.081370    -0.281416  \n",
            "std       0.334282     0.336135     0.337780     0.332859     0.354418  \n",
            "min      -0.770800    -0.810600    -0.780200    -0.802800    -0.962600  \n",
            "25%       0.049200    -0.017800    -0.057600    -0.154600    -0.546600  \n",
            "50%       0.280000     0.192400     0.157800     0.045200    -0.329000  \n",
            "75%       0.541200     0.461600     0.410800     0.289800    -0.065600  \n",
            "max       1.000000     1.000000     1.000000     1.000000     0.889800  \n",
            "\n",
            "[8 rows x 617 columns]\n"
          ]
        }
      ]
    },
    {
      "cell_type": "code",
      "source": [
        "print(data.columns)"
      ],
      "metadata": {
        "colab": {
          "base_uri": "https://localhost:8080/"
        },
        "id": "fYT64q-CnhN8",
        "outputId": "0ca748ce-a3a8-494c-a355-619b2ec7891b"
      },
      "execution_count": 14,
      "outputs": [
        {
          "output_type": "stream",
          "name": "stdout",
          "text": [
            "Index(['f1', 'f2', 'f3', 'f4', 'f5', 'f6', 'f7', 'f8', 'f9', 'f10',\n",
            "       ...\n",
            "       'f609', 'f610', 'f611', 'f612', 'f613', 'f614', 'f615', 'f616', 'f617',\n",
            "       'class'],\n",
            "      dtype='object', length=618)\n"
          ]
        }
      ]
    },
    {
      "cell_type": "code",
      "source": [
        "scaler = StandardScaler()\n",
        "print(data.columns)\n",
        "print(data.iloc[0])\n",
        "if (data.iloc[0] == \"'1'\").any():\n",
        "    column_to_drop = data.columns[data.iloc[0] == \"'1'\"][0]\n",
        "    X_scaled = scaler.fit_transform(data.drop(column_to_drop, axis=1))\n",
        "else:\n",
        "    print(\"No column found with '1' in the first row.\")\n",
        "    X_scaled = scaler.fit_transform(data)"
      ],
      "metadata": {
        "colab": {
          "base_uri": "https://localhost:8080/"
        },
        "id": "GscHtN9fpIm5",
        "outputId": "f5a3949a-c2aa-4cbf-cce3-7b2163a01944"
      },
      "execution_count": 23,
      "outputs": [
        {
          "output_type": "stream",
          "name": "stdout",
          "text": [
            "Index(['f1', 'f2', 'f3', 'f4', 'f5', 'f6', 'f7', 'f8', 'f9', 'f10',\n",
            "       ...\n",
            "       'f609', 'f610', 'f611', 'f612', 'f613', 'f614', 'f615', 'f616', 'f617',\n",
            "       'class'],\n",
            "      dtype='object', length=618)\n",
            "f1      -0.4394\n",
            "f2       -0.093\n",
            "f3       0.1718\n",
            "f4        0.462\n",
            "f5       0.6226\n",
            "          ...  \n",
            "f614     0.3334\n",
            "f615      0.641\n",
            "f616     0.5898\n",
            "f617    -0.4872\n",
            "class       '1'\n",
            "Name: 0, Length: 618, dtype: object\n"
          ]
        }
      ]
    },
    {
      "cell_type": "markdown",
      "source": [
        "##Part 2 - Model training and Fit the data to Model."
      ],
      "metadata": {
        "id": "q4f0odygphku"
      }
    },
    {
      "cell_type": "code",
      "source": [
        "X_train, X_test, y_train, y_test = train_test_split(X_scaled, data['f1'], test_size=0.2, random_state=42)"
      ],
      "metadata": {
        "id": "w5z_54BdqJxu"
      },
      "execution_count": 29,
      "outputs": []
    },
    {
      "cell_type": "code",
      "source": [
        "\n",
        "knn = KNeighborsClassifier(n_neighbors=3)\n",
        "knn.fit(X_train, y_train)"
      ],
      "metadata": {
        "colab": {
          "base_uri": "https://localhost:8080/",
          "height": 74
        },
        "id": "ihqWukrSqeEn",
        "outputId": "5c9abace-ae4f-47b4-bb2c-78cf57b54b0b"
      },
      "execution_count": 33,
      "outputs": [
        {
          "output_type": "execute_result",
          "data": {
            "text/plain": [
              "KNeighborsClassifier(n_neighbors=3)"
            ],
            "text/html": [
              "<style>#sk-container-id-2 {color: black;}#sk-container-id-2 pre{padding: 0;}#sk-container-id-2 div.sk-toggleable {background-color: white;}#sk-container-id-2 label.sk-toggleable__label {cursor: pointer;display: block;width: 100%;margin-bottom: 0;padding: 0.3em;box-sizing: border-box;text-align: center;}#sk-container-id-2 label.sk-toggleable__label-arrow:before {content: \"▸\";float: left;margin-right: 0.25em;color: #696969;}#sk-container-id-2 label.sk-toggleable__label-arrow:hover:before {color: black;}#sk-container-id-2 div.sk-estimator:hover label.sk-toggleable__label-arrow:before {color: black;}#sk-container-id-2 div.sk-toggleable__content {max-height: 0;max-width: 0;overflow: hidden;text-align: left;background-color: #f0f8ff;}#sk-container-id-2 div.sk-toggleable__content pre {margin: 0.2em;color: black;border-radius: 0.25em;background-color: #f0f8ff;}#sk-container-id-2 input.sk-toggleable__control:checked~div.sk-toggleable__content {max-height: 200px;max-width: 100%;overflow: auto;}#sk-container-id-2 input.sk-toggleable__control:checked~label.sk-toggleable__label-arrow:before {content: \"▾\";}#sk-container-id-2 div.sk-estimator input.sk-toggleable__control:checked~label.sk-toggleable__label {background-color: #d4ebff;}#sk-container-id-2 div.sk-label input.sk-toggleable__control:checked~label.sk-toggleable__label {background-color: #d4ebff;}#sk-container-id-2 input.sk-hidden--visually {border: 0;clip: rect(1px 1px 1px 1px);clip: rect(1px, 1px, 1px, 1px);height: 1px;margin: -1px;overflow: hidden;padding: 0;position: absolute;width: 1px;}#sk-container-id-2 div.sk-estimator {font-family: monospace;background-color: #f0f8ff;border: 1px dotted black;border-radius: 0.25em;box-sizing: border-box;margin-bottom: 0.5em;}#sk-container-id-2 div.sk-estimator:hover {background-color: #d4ebff;}#sk-container-id-2 div.sk-parallel-item::after {content: \"\";width: 100%;border-bottom: 1px solid gray;flex-grow: 1;}#sk-container-id-2 div.sk-label:hover label.sk-toggleable__label {background-color: #d4ebff;}#sk-container-id-2 div.sk-serial::before {content: \"\";position: absolute;border-left: 1px solid gray;box-sizing: border-box;top: 0;bottom: 0;left: 50%;z-index: 0;}#sk-container-id-2 div.sk-serial {display: flex;flex-direction: column;align-items: center;background-color: white;padding-right: 0.2em;padding-left: 0.2em;position: relative;}#sk-container-id-2 div.sk-item {position: relative;z-index: 1;}#sk-container-id-2 div.sk-parallel {display: flex;align-items: stretch;justify-content: center;background-color: white;position: relative;}#sk-container-id-2 div.sk-item::before, #sk-container-id-2 div.sk-parallel-item::before {content: \"\";position: absolute;border-left: 1px solid gray;box-sizing: border-box;top: 0;bottom: 0;left: 50%;z-index: -1;}#sk-container-id-2 div.sk-parallel-item {display: flex;flex-direction: column;z-index: 1;position: relative;background-color: white;}#sk-container-id-2 div.sk-parallel-item:first-child::after {align-self: flex-end;width: 50%;}#sk-container-id-2 div.sk-parallel-item:last-child::after {align-self: flex-start;width: 50%;}#sk-container-id-2 div.sk-parallel-item:only-child::after {width: 0;}#sk-container-id-2 div.sk-dashed-wrapped {border: 1px dashed gray;margin: 0 0.4em 0.5em 0.4em;box-sizing: border-box;padding-bottom: 0.4em;background-color: white;}#sk-container-id-2 div.sk-label label {font-family: monospace;font-weight: bold;display: inline-block;line-height: 1.2em;}#sk-container-id-2 div.sk-label-container {text-align: center;}#sk-container-id-2 div.sk-container {/* jupyter's `normalize.less` sets `[hidden] { display: none; }` but bootstrap.min.css set `[hidden] { display: none !important; }` so we also need the `!important` here to be able to override the default hidden behavior on the sphinx rendered scikit-learn.org. See: https://github.com/scikit-learn/scikit-learn/issues/21755 */display: inline-block !important;position: relative;}#sk-container-id-2 div.sk-text-repr-fallback {display: none;}</style><div id=\"sk-container-id-2\" class=\"sk-top-container\"><div class=\"sk-text-repr-fallback\"><pre>KNeighborsClassifier(n_neighbors=3)</pre><b>In a Jupyter environment, please rerun this cell to show the HTML representation or trust the notebook. <br />On GitHub, the HTML representation is unable to render, please try loading this page with nbviewer.org.</b></div><div class=\"sk-container\" hidden><div class=\"sk-item\"><div class=\"sk-estimator sk-toggleable\"><input class=\"sk-toggleable__control sk-hidden--visually\" id=\"sk-estimator-id-2\" type=\"checkbox\" checked><label for=\"sk-estimator-id-2\" class=\"sk-toggleable__label sk-toggleable__label-arrow\">KNeighborsClassifier</label><div class=\"sk-toggleable__content\"><pre>KNeighborsClassifier(n_neighbors=3)</pre></div></div></div></div></div>"
            ]
          },
          "metadata": {},
          "execution_count": 33
        }
      ]
    },
    {
      "cell_type": "markdown",
      "source": [
        "## Part 3 - Evaluate the Classification Quality."
      ],
      "metadata": {
        "id": "Lbd0hot9q_IZ"
      }
    },
    {
      "cell_type": "code",
      "source": [
        "y_pred = knn.predict(X_test)\n",
        "cm = confusion_matrix(y_test, y_pred)\n",
        "print(\"Confusion Matrix:\\n\", cm)"
      ],
      "metadata": {
        "colab": {
          "base_uri": "https://localhost:8080/"
        },
        "id": "8JjyBoNZrIgs",
        "outputId": "5872c409-29f9-4927-d0ad-22261afcecae"
      },
      "execution_count": 36,
      "outputs": [
        {
          "output_type": "stream",
          "name": "stdout",
          "text": [
            "Confusion Matrix:\n",
            " [[882 109   0]\n",
            " [167 396   1]\n",
            " [  1   3   1]]\n"
          ]
        }
      ]
    },
    {
      "cell_type": "code",
      "source": [
        "report = classification_report(y_test, y_pred)\n",
        "print(\"Classification Report:\\n\", report)"
      ],
      "metadata": {
        "colab": {
          "base_uri": "https://localhost:8080/"
        },
        "outputId": "af6efcca-3336-4ec2-9e29-cb5be175df27",
        "id": "EQRFossDr7tX"
      },
      "execution_count": 37,
      "outputs": [
        {
          "output_type": "stream",
          "name": "stdout",
          "text": [
            "Classification Report:\n",
            "               precision    recall  f1-score   support\n",
            "\n",
            "           0       0.84      0.89      0.86       991\n",
            "           1       0.78      0.70      0.74       564\n",
            "           2       0.50      0.20      0.29         5\n",
            "\n",
            "    accuracy                           0.82      1560\n",
            "   macro avg       0.71      0.60      0.63      1560\n",
            "weighted avg       0.82      0.82      0.82      1560\n",
            "\n"
          ]
        }
      ]
    }
  ]
}